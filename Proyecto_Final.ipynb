{
 "cells": [
  {
   "cell_type": "markdown",
   "id": "view-in-github",
   "metadata": {
    "id": "view-in-github"
   },
   "source": [
    "<a href=\"https://colab.research.google.com/github/Mel0307822/moviedata/blob/main/movie_magic_data_driven_recommendations.ipynb\" target=\"_parent\"><img src=\"https://colab.research.google.com/assets/colab-badge.svg\" alt=\"Open In Colab\"/></a>"
   ]
  },
  {
   "cell_type": "markdown",
   "id": "15a71ff1",
   "metadata": {
    "id": "15a71ff1",
    "papermill": {
     "duration": 0.014462,
     "end_time": "2024-11-13T15:26:11.445095",
     "exception": false,
     "start_time": "2024-11-13T15:26:11.430633",
     "status": "completed"
    },
    "tags": []
   },
   "source": [
    "# <div style=\"text-align:center; border-radius:15px; padding:15px; margin:0; font-size:180%; font-family:Arial, sans-serif; background-color:#560c10; color:#DCD2C9; overflow:hidden; box-shadow:0 4px 8px rgba(0, 0, 0, 0.3);\"><b> Análisis de preferencia de espectadores y factores de éxito comercial de películas </b></div>"
   ]
  },
  {
   "cell_type": "markdown",
   "id": "75263d5f",
   "metadata": {
    "id": "75263d5f",
    "papermill": {
     "duration": 0.011351,
     "end_time": "2024-11-13T15:26:11.469444",
     "exception": false,
     "start_time": "2024-11-13T15:26:11.458093",
     "status": "completed"
    },
    "tags": []
   },
   "source": [
    "![movie](https://i.postimg.cc/qMKfD6sK/flat-design-movie-theater-background-23-2150998492.jpg)"
   ]
  },
  {
   "cell_type": "markdown",
   "id": "231abec5",
   "metadata": {
    "id": "231abec5",
    "papermill": {
     "duration": 0.011088,
     "end_time": "2024-11-13T15:26:11.491869",
     "exception": false,
     "start_time": "2024-11-13T15:26:11.480781",
     "status": "completed"
    },
    "tags": []
   },
   "source": [
    "# <div style=\"text-align:left; border-radius:15px; padding:15px; margin:0; font-size:60%; font-family:Arial, sans-serif; background-color:#083307; color:#E5EFE5; overflow:hidden; box-shadow:0 4px 8px rgba(0, 0, 0, 0.3);\"><b>1. Importar librerias necesarias </b></div>"
   ]
  },
  {
   "cell_type": "code",
   "execution_count": 70,
   "id": "4b7818bc",
   "metadata": {
    "_cell_guid": "b1076dfc-b9ad-4769-8c92-a6c4dae69d19",
    "_uuid": "8f2839f25d086af736a60e9eeb907d3b93b6e0e5",
    "execution": {
     "iopub.execute_input": "2024-11-13T15:26:11.517968Z",
     "iopub.status.busy": "2024-11-13T15:26:11.517374Z",
     "iopub.status.idle": "2024-11-13T15:26:31.189805Z",
     "shell.execute_reply": "2024-11-13T15:26:31.188543Z"
    },
    "id": "4b7818bc",
    "papermill": {
     "duration": 19.688605,
     "end_time": "2024-11-13T15:26:31.192833",
     "exception": false,
     "start_time": "2024-11-13T15:26:11.504228",
     "status": "completed"
    },
    "tags": []
   },
   "outputs": [],
   "source": [
    "# Importar librerias\n",
    "import pandas as pd\n",
    "import numpy as np\n",
    "import matplotlib.pyplot as plt\n",
    "\n",
    "import seaborn as sns\n",
    "from matplotlib.colors import LinearSegmentedColormap\n",
    "from sklearn.model_selection import train_test_split\n",
    "\n",
    "import ast\n",
    "import warnings\n",
    "\n",
    "from keras.models import Sequential\n",
    "from keras.layers import Dense\n",
    "\n",
    "from keras.models import Sequential\n",
    "from keras.layers import Dense\n",
    "from keras.optimizers import Adam\n",
    "\n",
    "from sklearn.preprocessing import LabelEncoder\n",
    "from sklearn.metrics import mean_squared_error, mean_absolute_error\n",
    "\n",
    "# Eliminar alertas (warnings)\n",
    "warnings.simplefilter(action='ignore', category=FutureWarning)"
   ]
  },
  {
   "cell_type": "markdown",
   "id": "d3c5983a",
   "metadata": {
    "id": "d3c5983a",
    "papermill": {
     "duration": 0.010993,
     "end_time": "2024-11-13T15:26:31.215267",
     "exception": false,
     "start_time": "2024-11-13T15:26:31.204274",
     "status": "completed"
    },
    "tags": []
   },
   "source": [
    "# <div style=\"text-align:left; border-radius:15px; padding:15px; margin:0; font-size:60%; font-family:Arial, sans-serif; background-color:#083307; color:#E5EFE5; overflow:hidden; box-shadow:0 4px 8px rgba(0, 0, 0, 0.3);\"><b> 2. Limpieza de datos\n",
    " </b></div>"
   ]
  },
  {
   "cell_type": "markdown",
   "id": "1e50ad23",
   "metadata": {
    "id": "1e50ad23",
    "papermill": {
     "duration": 0.011513,
     "end_time": "2024-11-13T15:26:31.238198",
     "exception": false,
     "start_time": "2024-11-13T15:26:31.226685",
     "status": "completed"
    },
    "tags": []
   },
   "source": [
    "- **Paso 1: Lectura de datos.** Comencemos leyendo el archivo CSV que contiene los metadatos de las películas (movie_metadata.csv)\n",
    "\n",
    "- **Paso 2: Selección de columnas relevantes**. Conservaremos sólo las columnas esenciales para nuestro modelo de recomendación, como ID, título de la película, género, palabras clave del argumento, nombre del director, ingreso bruto, puntuación imdb, etc.\n",
    "\n",
    "- **Paso 3: Limpiar los datos de las películas.** Las filas con valores perdidos en la columna id se eliminan para garantizar un conjunto de datos limpio.\n"
   ]
  },
  {
   "cell_type": "code",
   "execution_count": null,
   "id": "9692e5b6",
   "metadata": {
    "colab": {
     "base_uri": "https://localhost:8080/",
     "height": 1000
    },
    "execution": {
     "iopub.execute_input": "2024-11-13T15:26:31.263316Z",
     "iopub.status.busy": "2024-11-13T15:26:31.262571Z",
     "iopub.status.idle": "2024-11-13T15:26:32.809483Z",
     "shell.execute_reply": "2024-11-13T15:26:32.808316Z"
    },
    "id": "9692e5b6",
    "outputId": "18068313-6704-472c-ea30-528f2458eb10",
    "papermill": {
     "duration": 1.562965,
     "end_time": "2024-11-13T15:26:32.812585",
     "exception": false,
     "start_time": "2024-11-13T15:26:31.249620",
     "status": "completed"
    },
    "tags": []
   },
   "outputs": [],
   "source": [
    "# Lectura de documento CSV\n",
    "movies_df = pd.read_csv('movie_metadata.csv')\n",
    "movies_df.head(20)"
   ]
  },
  {
   "cell_type": "code",
   "execution_count": null,
   "id": "ns4aCe5RmCMh",
   "metadata": {
    "colab": {
     "base_uri": "https://localhost:8080/"
    },
    "id": "ns4aCe5RmCMh",
    "outputId": "001c4c92-452a-4046-d134-0ada16e64447"
   },
   "outputs": [],
   "source": [
    "# Verificar el resumen estadístico del dataset\n",
    "movies_df.describe()\n",
    "\n",
    "# Verificar los tipos de datos y si hay valores nulos\n",
    "movies_df.info()"
   ]
  },
  {
   "cell_type": "code",
   "execution_count": null,
   "id": "vQNbv2NemUb9",
   "metadata": {
    "colab": {
     "base_uri": "https://localhost:8080/",
     "height": 994
    },
    "id": "vQNbv2NemUb9",
    "outputId": "fb61c421-1fe2-458d-eccb-5631967dd35b"
   },
   "outputs": [],
   "source": [
    "# Verificar valores nulos\n",
    "movies_df.isnull().sum()"
   ]
  },
  {
   "cell_type": "code",
   "execution_count": null,
   "id": "dTLbnfH22tZk",
   "metadata": {
    "colab": {
     "base_uri": "https://localhost:8080/",
     "height": 523
    },
    "id": "dTLbnfH22tZk",
    "outputId": "0e5b4e98-f46b-48e2-94bd-c607e4d65d67"
   },
   "outputs": [],
   "source": [
    "# Selección de columnas relevantes para el modelo\n",
    "relevant_data = movies_df[['movie_title',\n",
    "    'genero',\n",
    "    'duration',\n",
    "    'num_critic_for_reviews',\n",
    "    'director_facebook_likes',\n",
    "    'actor_1_facebook_likes',\n",
    "    'actor_2_facebook_likes',\n",
    "    'actor_3_facebook_likes',\n",
    "    'cast_total_facebook_likes',\n",
    "    'num_voted_users',\n",
    "    'gross',\n",
    "    'imdb_score',\n",
    "    'budget',\n",
    "    'movie_facebook_likes']]\n",
    "\n",
    "relevant_data.isnull().sum()"
   ]
  },
  {
   "cell_type": "code",
   "execution_count": null,
   "id": "XYTpQOMPncBX",
   "metadata": {
    "colab": {
     "base_uri": "https://localhost:8080/"
    },
    "id": "XYTpQOMPncBX",
    "outputId": "821df5dc-f2e4-4666-ee2f-d42107b557b5"
   },
   "outputs": [],
   "source": [
    "relevant_data.dropna(inplace=True)"
   ]
  },
  {
   "cell_type": "markdown",
   "id": "0676a653",
   "metadata": {},
   "source": [
    "Verificación"
   ]
  },
  {
   "cell_type": "code",
   "execution_count": null,
   "id": "kS6E6lI_nlI1",
   "metadata": {
    "colab": {
     "base_uri": "https://localhost:8080/",
     "height": 523
    },
    "id": "kS6E6lI_nlI1",
    "outputId": "aeae10ef-0b03-4800-aee7-b1c986dcbb85"
   },
   "outputs": [],
   "source": [
    "relevant_data.count()"
   ]
  },
  {
   "cell_type": "markdown",
   "id": "4a3cb5eb",
   "metadata": {
    "id": "4a3cb5eb",
    "papermill": {
     "duration": 0.011239,
     "end_time": "2024-11-13T15:26:32.835240",
     "exception": false,
     "start_time": "2024-11-13T15:26:32.824001",
     "status": "completed"
    },
    "tags": []
   },
   "source": [
    "# <div style=\"text-align:left; border-radius:15px; padding:15px; margin:0; font-size:60%; font-family:Arial, sans-serif; background-color:#083307; color:#E5EFE5; overflow:hidden; box-shadow:0 4px 8px rgba(0, 0, 0, 0.3);\"><b> 3. Preprocesamiento de datos e ingeniería de características </b></div>"
   ]
  },
  {
   "cell_type": "markdown",
   "id": "0da27e4f",
   "metadata": {
    "id": "0da27e4f",
    "papermill": {
     "duration": 0.011666,
     "end_time": "2024-11-13T15:26:32.858132",
     "exception": false,
     "start_time": "2024-11-13T15:26:32.846466",
     "status": "completed"
    },
    "tags": []
   },
   "source": [
    "-  **Paso 4: Procesamiento de géneros**. Los datos de género se almacenan inicialmente como un objeto. Primero, rellenaremos los datos de género que falten con listas vacías. Después, usando el método split de Python, convertiremos estas representaciones de cadena en listas reales de Python.\n",
    "\n",
    "-  **Paso 5: Extraer los nombres de los géneros**. De la lista de diccionarios, extraigamos los nombres de los géneros y almacenémoslos en una nueva columna llamada genre_names. Esto hace que los datos de género sean más accesibles para su posterior procesamiento.\n",
    "\n",
    "-  **Paso 6: Codificación de géneros**. Dado que la información de género es categórica, realizaremos una codificación en caliente para convertir los nombres de género en columnas binarias. Este paso nos permite utilizar los géneros como características de entrada para nuestro modelo de recomendación.\n",
    "\n",
    "-  **Paso 7: Eliminación de columnas innecesarias**. Tras la codificación de una sola vez, las columnas originales genres y genre_names ya no son necesarias, por lo que se eliminan del conjunto de datos.\n"
   ]
  },
  {
   "cell_type": "code",
   "execution_count": null,
   "id": "MshJ1Q8k2v68",
   "metadata": {
    "colab": {
     "base_uri": "https://localhost:8080/",
     "height": 449
    },
    "id": "MshJ1Q8k2v68",
    "outputId": "5eee9abc-4bc0-46e7-e827-a474ea27ee4d"
   },
   "outputs": [],
   "source": [
    "# Procesamiento de géneros\n",
    "# Llenar las filas de género vacías con listas vacías\n",
    "relevant_data['genero'] = relevant_data['genero'].fillna('[]')\n",
    "\n",
    "relevant_data['genero'] = relevant_data['genero'].apply(lambda x: x.split('|'))\n",
    "\n",
    "relevant_data['genero'].head()"
   ]
  },
  {
   "cell_type": "code",
   "execution_count": null,
   "id": "YL--glh622az",
   "metadata": {
    "colab": {
     "base_uri": "https://localhost:8080/"
    },
    "id": "YL--glh622az",
    "outputId": "f54b8702-e87b-48bc-8401-e2ef8a63e9c2"
   },
   "outputs": [],
   "source": [
    "# Copiar la información en nueva columna para evitar la sustitución de la información\n",
    "relevant_data['genre_names'] = relevant_data['genero']"
   ]
  },
  {
   "cell_type": "code",
   "execution_count": null,
   "id": "QvD2IQnI24y2",
   "metadata": {
    "colab": {
     "base_uri": "https://localhost:8080/"
    },
    "id": "QvD2IQnI24y2",
    "outputId": "9143eb64-5e07-4592-da00-d5cd06eceea8"
   },
   "outputs": [],
   "source": [
    "# One-hot encoding para la codificaciones de géneros\n",
    "# convertir los valores de Género a binarios para tomar estos valores como entradas de la red neuronal\n",
    "genre_dummies = relevant_data['genre_names'].str.join('|').str.get_dummies()\n",
    "print(genre_dummies)"
   ]
  },
  {
   "cell_type": "code",
   "execution_count": null,
   "id": "wnj9bfjn27YW",
   "metadata": {
    "id": "wnj9bfjn27YW"
   },
   "outputs": [],
   "source": [
    "# Concatenar los dummies con el dataframe original\n",
    "relevant_data = pd.concat([relevant_data, genre_dummies], axis=1)"
   ]
  },
  {
   "cell_type": "code",
   "execution_count": null,
   "id": "734537f4",
   "metadata": {
    "colab": {
     "base_uri": "https://localhost:8080/"
    },
    "execution": {
     "iopub.execute_input": "2024-11-13T15:26:32.882615Z",
     "iopub.status.busy": "2024-11-13T15:26:32.882134Z",
     "iopub.status.idle": "2024-11-13T15:26:35.935467Z",
     "shell.execute_reply": "2024-11-13T15:26:35.934253Z"
    },
    "id": "734537f4",
    "outputId": "cd985543-2338-421c-d759-b78a22db58c9",
    "papermill": {
     "duration": 3.068847,
     "end_time": "2024-11-13T15:26:35.938255",
     "exception": false,
     "start_time": "2024-11-13T15:26:32.869408",
     "status": "completed"
    },
    "tags": []
   },
   "outputs": [],
   "source": [
    "# Eliminación de las columnas genero y genre-names que ya fueron binarizadas\n",
    "relevant_data.drop(['genero','genre_names'],axis=1, inplace=True)\n",
    "relevant_data.info()"
   ]
  },
  {
   "cell_type": "markdown",
   "id": "8b032a69",
   "metadata": {
    "id": "8b032a69",
    "papermill": {
     "duration": 0.012234,
     "end_time": "2024-11-13T15:26:35.962263",
     "exception": false,
     "start_time": "2024-11-13T15:26:35.950029",
     "status": "completed"
    },
    "tags": []
   },
   "source": [
    "# <div style=\"text-align:left; border-radius:15px; padding:15px; margin:0; font-size:60%; font-family:Arial, sans-serif; background-color:#083307; color:#E5EFE5; overflow:hidden; box-shadow:0 4px 8px rgba(0, 0, 0, 0.3);\"><b> 4. Exploratory Data Analysis </b></div>"
   ]
  },
  {
   "cell_type": "markdown",
   "id": "6cf7d174",
   "metadata": {},
   "source": [
    "## <div style=\"text-align:left; border-radius:10px; padding:10px; margin:5px 0; font-size:50%; font-family:Arial, sans-serif; background-color:#f2f2f2; color:#145214; overflow:hidden; box-shadow:0 2px 4px rgba(0, 0, 0, 0.1);\"><b>4.1. Distribución de Peliculas basadas en su Genero</b></div>\n",
    "\n"
   ]
  },
  {
   "cell_type": "code",
   "execution_count": null,
   "id": "0f4cc45a",
   "metadata": {
    "colab": {
     "base_uri": "https://localhost:8080/",
     "height": 626
    },
    "execution": {
     "iopub.execute_input": "2024-11-13T15:26:36.010702Z",
     "iopub.status.busy": "2024-11-13T15:26:36.010101Z",
     "iopub.status.idle": "2024-11-13T15:26:36.581108Z",
     "shell.execute_reply": "2024-11-13T15:26:36.579930Z"
    },
    "id": "0f4cc45a",
    "outputId": "f760e1a8-805d-4037-c9b4-8cea3c4ade67",
    "papermill": {
     "duration": 0.587139,
     "end_time": "2024-11-13T15:26:36.584238",
     "exception": false,
     "start_time": "2024-11-13T15:26:35.997099",
     "status": "completed"
    },
    "tags": []
   },
   "outputs": [],
   "source": [
    "# Conteo de películas por género\n",
    "genre_counts = genre_dummies.sum().sort_values(ascending=False)\n",
    "\n",
    "# Configuración de la figura\n",
    "plt.figure(figsize=(8, 8))\n",
    "sns.set_style(\"whitegrid\")\n",
    "\n",
    "# Graficación de la distribución de géneros\n",
    "sns.barplot(x=genre_counts.values, y=genre_counts.index, palette=\"viridis\")\n",
    "plt.title('Distribución de Películas por Género', fontsize=16, fontweight='bold')\n",
    "plt.xlabel('Número de Películas', fontsize=14)\n",
    "plt.ylabel('Géneros', fontsize=14)\n",
    "\n",
    "# Ajuste de los textos en los ejes\n",
    "plt.xticks(fontsize=12)\n",
    "plt.yticks(fontsize=12)\n",
    "\n",
    "# Mostrar la gráfica\n",
    "plt.tight_layout()\n",
    "plt.show()\n"
   ]
  },
  {
   "cell_type": "markdown",
   "id": "52758ff4",
   "metadata": {},
   "source": [
    "La gráfica confirma que géneros como drama y comedia dominan la producción cinematográfica, mientras que los géneros más especializados o clásicos (por ejemplo, Film-Noir o Western) tienen menor representación. Esto podría estar influenciado tanto por las preferencias del público como por las estrategias de mercado en la industria del cine."
   ]
  },
  {
   "cell_type": "markdown",
   "id": "4dca7734",
   "metadata": {},
   "source": [
    "## <div style=\"text-align:left; border-radius:10px; padding:10px; margin:5px 0; font-size:50%; font-family:Arial, sans-serif; background-color:#f2f2f2; color:#145214; overflow:hidden; box-shadow:0 2px 4px rgba(0, 0, 0, 0.1);\"><b>4.2. Ingresos por género</b></div>\n",
    "\n"
   ]
  },
  {
   "cell_type": "code",
   "execution_count": null,
   "metadata": {},
   "outputs": [],
   "source": [
    "from sklearn.preprocessing import StandardScaler\n",
    "\n",
    "# Seleccionamos las columnas numéricas\n",
    "numeric_columns = ['duration',\n",
    "    'num_critic_for_reviews',\n",
    "    'director_facebook_likes',\n",
    "    'actor_1_facebook_likes',\n",
    "    'actor_2_facebook_likes',\n",
    "    'actor_3_facebook_likes',\n",
    "    'cast_total_facebook_likes',\n",
    "    'num_voted_users',\n",
    "    'gross',\n",
    "    'budget',\n",
    "    'movie_facebook_likes']\n",
    "\n",
    "# Aplicamos la normalización usando StandardScaler\n",
    "scaler = StandardScaler()\n",
    "relevant_data[numeric_columns] = scaler.fit_transform(relevant_data[numeric_columns])\n",
    "\n",
    "# Verificamos cómo queda el DataFrame después de la normalización\n",
    "relevant_data[numeric_columns].head()\n"
   ]
  },
  {
   "cell_type": "code",
   "execution_count": null,
   "id": "h8OC7t5zxhP5",
   "metadata": {
    "colab": {
     "base_uri": "https://localhost:8080/",
     "height": 573
    },
    "id": "h8OC7t5zxhP5",
    "outputId": "c6593eff-29ed-456a-f605-8c3b245ce141"
   },
   "outputs": [],
   "source": [
    "# Sumar el 'gross' para cada género\n",
    "genre_gross_sum = (relevant_data[genre_dummies.columns] * relevant_data['gross'].values[:, None]).sum().sort_values(ascending=False)\n",
    "\n",
    "# Configuración de la figura\n",
    "plt.figure(figsize=(8, 8))\n",
    "sns.set_style(\"whitegrid\")\n",
    "\n",
    "# Graficar la suma de ingresos por género\n",
    "sns.barplot(x=genre_gross_sum.values, y=genre_gross_sum.index, palette=\"crest\")\n",
    "plt.title('Suma de Ingresos por Género de Películas', fontsize=16, fontweight='bold')\n",
    "plt.xlabel('Ingresos Totales (en dólares)', fontsize=14)\n",
    "plt.ylabel('Géneros', fontsize=14)\n",
    "\n",
    "# Formatear valores en el eje x (opcional: si los números son grandes)\n",
    "plt.xticks(fontsize=12, rotation=30)\n",
    "plt.yticks(fontsize=12)\n",
    "plt.gca().xaxis.set_major_formatter(plt.FuncFormatter(lambda x, _: f'${x:,.0f}'))\n",
    "\n",
    "# Ajustar la presentación\n",
    "plt.tight_layout()\n",
    "plt.show()\n",
    "\n"
   ]
  },
  {
   "cell_type": "markdown",
   "id": "ec461b34",
   "metadata": {},
   "source": [
    "Las películas de acción, comedia, drama y aventura son las que generan más ingresos."
   ]
  },
  {
   "cell_type": "markdown",
   "id": "1de440db",
   "metadata": {},
   "source": [
    "## <div style=\"text-align:left; border-radius:10px; padding:10px; margin:5px 0; font-size:50%; font-family:Arial, sans-serif; background-color:#f2f2f2; color:#145214; overflow:hidden; box-shadow:0 2px 4px rgba(0, 0, 0, 0.1);\"><b>4.3. Distribución de Puntuación de IMDB</b></div>\n",
    "\n"
   ]
  },
  {
   "cell_type": "code",
   "execution_count": null,
   "id": "f2b2462c",
   "metadata": {
    "colab": {
     "base_uri": "https://localhost:8080/",
     "height": 573
    },
    "execution": {
     "iopub.execute_input": "2024-11-13T15:26:36.635619Z",
     "iopub.status.busy": "2024-11-13T15:26:36.635191Z",
     "iopub.status.idle": "2024-11-13T15:26:37.127354Z",
     "shell.execute_reply": "2024-11-13T15:26:37.126091Z"
    },
    "id": "f2b2462c",
    "outputId": "34239b1a-886f-4913-a150-64a091a2c946",
    "papermill": {
     "duration": 0.508675,
     "end_time": "2024-11-13T15:26:37.130076",
     "exception": false,
     "start_time": "2024-11-13T15:26:36.621401",
     "status": "completed"
    },
    "tags": []
   },
   "outputs": [],
   "source": [
    "# Gráfico de la distribución de puntuaciones de IMDb\n",
    "plt.figure(figsize=(10, 6))\n",
    "sns.set_style(\"whitegrid\")\n",
    "\n",
    "# Histograma de puntuaciones de IMDb\n",
    "sns.histplot(\n",
    "    relevant_data['imdb_score'], \n",
    "    bins=15,  # Más bins para una mayor precisión en la distribución\n",
    "    kde=True,  # Se agrega KDE para visualizar mejor la densidad\n",
    "    color=\"teal\",  # Color profesional y accesible\n",
    "    edgecolor=\"black\"  # Bordes en las barras para mejor definición\n",
    ")\n",
    "\n",
    "# Título y etiquetas de los ejes\n",
    "plt.title('Distribución de Puntajes IMDb', fontsize=18, fontweight='bold', pad=15)\n",
    "plt.xlabel('Puntajes IMDb', fontsize=14, labelpad=10)\n",
    "plt.ylabel('Conteo', fontsize=14, labelpad=10)\n",
    "\n",
    "# Ajuste de las etiquetas del eje\n",
    "plt.xticks(fontsize=12)\n",
    "plt.yticks(fontsize=12)\n",
    "\n",
    "# Líneas de referencia\n",
    "plt.axvline(relevant_data['imdb_score'].mean(), color='red', linestyle='--', linewidth=1.5, label=f'Media: {relevant_data[\"imdb_score\"].mean():.2f}')\n",
    "plt.axvline(relevant_data['imdb_score'].median(), color='blue', linestyle='--', linewidth=1.5, label=f'Mediana: {relevant_data[\"imdb_score\"].median():.2f}')\n",
    "\n",
    "# Leyenda\n",
    "plt.legend(fontsize=12, loc='upper left')\n",
    "\n",
    "# Ajustar la presentación\n",
    "plt.tight_layout()\n",
    "plt.show()"
   ]
  },
  {
   "cell_type": "markdown",
   "id": "9a8c6eae",
   "metadata": {},
   "source": [
    "El gráfico muestra que los puntajes IMDb analizados tienen una distribución centrada alrededor de 6.5, con una forma simétrica similar a una campana, lo que sugiere que la mayoría de las películas o series están calificadas en un rango medio. La media es de 6.46 y la mediana de 6.60, lo que indica que los datos están ligeramente sesgados hacia la izquierda, pero la diferencia es mínima, reflejando una distribución casi equilibrada.\n",
    "\n",
    "En general, la mayoría de las producciones tienen puntajes cercanos al promedio, mientras que los valores extremadamente bajos o altos son menos comunes. Esto sugiere que la mayoría de los usuarios evalúan las películas o series dentro de un rango moderado, con pocas producciones destacando como excepcionales o muy malas."
   ]
  },
  {
   "cell_type": "markdown",
   "id": "edab322d",
   "metadata": {},
   "source": [
    "## <div style=\"text-align:left; border-radius:10px; padding:10px; margin:5px 0; font-size:50%; font-family:Arial, sans-serif; background-color:#f2f2f2; color:#145214; overflow:hidden; box-shadow:0 2px 4px rgba(0, 0, 0, 0.1);\"><b>4.4. Mapa de correlación entre las variables seleccionadas</b></div>\n",
    "\n"
   ]
  },
  {
   "cell_type": "code",
   "execution_count": null,
   "id": "ff8210fc",
   "metadata": {
    "colab": {
     "base_uri": "https://localhost:8080/",
     "height": 882
    },
    "execution": {
     "iopub.execute_input": "2024-11-13T15:26:37.184825Z",
     "iopub.status.busy": "2024-11-13T15:26:37.183670Z",
     "iopub.status.idle": "2024-11-13T15:26:37.788620Z",
     "shell.execute_reply": "2024-11-13T15:26:37.787263Z"
    },
    "id": "ff8210fc",
    "outputId": "0a5b8680-7b61-4b83-e78f-b3efc9f0989b",
    "papermill": {
     "duration": 0.622724,
     "end_time": "2024-11-13T15:26:37.791810",
     "exception": false,
     "start_time": "2024-11-13T15:26:37.169086",
     "status": "completed"
    },
    "tags": []
   },
   "outputs": [],
   "source": [
    "# Seleccionar solo las columnas numéricas del DataFrame\n",
    "datos = relevant_data[[\n",
    "    'duration',\n",
    "    'num_critic_for_reviews',\n",
    "    'director_facebook_likes',\n",
    "    'actor_1_facebook_likes',\n",
    "    'actor_2_facebook_likes',\n",
    "    'actor_3_facebook_likes',\n",
    "    'cast_total_facebook_likes',\n",
    "    'num_voted_users',\n",
    "    'gross',\n",
    "    'imdb_score',\n",
    "    'budget',\n",
    "    'movie_facebook_likes']]\n",
    "\n",
    "# Calcular la matriz de correlación\n",
    "correlation_matrix = datos.corr()\n",
    "\n",
    "# Visualizar la matriz de correlación con un heatmap\n",
    "plt.figure(figsize=(14, 10))\n",
    "sns.set_style(\"whitegrid\")\n",
    "\n",
    "# Heatmap con ajustes estilísticos\n",
    "sns.heatmap(\n",
    "    correlation_matrix, \n",
    "    annot=True, \n",
    "    cmap='coolwarm', \n",
    "    fmt='.2f', \n",
    "    linewidths=0.5,  # Líneas entre celdas para mayor claridad\n",
    "    cbar_kws={\"shrink\": 0.8, \"label\": \"Nivel de correlación\"}  # Personalización de la barra de color\n",
    ")\n",
    "\n",
    "# Título y configuración del gráfico\n",
    "plt.title('Matriz de Correlación entre las Variables Numéricas', fontsize=18, fontweight='bold', pad=15)\n",
    "plt.xticks(fontsize=12, rotation=45, ha='right')  # Rotar etiquetas para mejor visualización\n",
    "plt.yticks(fontsize=12, rotation=0)\n",
    "\n",
    "# Ajustar la presentación\n",
    "plt.tight_layout()\n",
    "plt.show()"
   ]
  },
  {
   "cell_type": "markdown",
   "id": "a6b1f3f5",
   "metadata": {},
   "source": [
    "La matriz de correlación muestra que las me gusta de los actores principales están fuertemente relacionadas con el total del reparto (0.95). También, las películas con más críticas (num_critic_for_reviews) tienden a ser más populares en redes sociales (movie_facebook_likes) con una correlación de 0.70.\n",
    "\n",
    "Además, variables como num_voted_users y gross (0.63) sugieren que más votos se asocian con mayores ingresos. Por otro lado, métricas como el presupuesto (budget) tienen correlaciones débiles con el desempeño general, destacando la influencia mayor de las redes sociales y críticas en el éxito de las películas."
   ]
  },
  {
   "cell_type": "markdown",
   "id": "6c5ed908",
   "metadata": {},
   "source": [
    "## <div style=\"text-align:left; border-radius:10px; padding:10px; margin:5px 0; font-size:50%; font-family:Arial, sans-serif; background-color:#f2f2f2; color:#145214; overflow:hidden; box-shadow:0 2px 4px rgba(0, 0, 0, 0.1);\"><b>4.5. Presupuesto y ganancias</b></div>\n",
    "\n"
   ]
  },
  {
   "cell_type": "code",
   "execution_count": null,
   "id": "oxYafpgfgd-5",
   "metadata": {
    "colab": {
     "base_uri": "https://localhost:8080/",
     "height": 573
    },
    "id": "oxYafpgfgd-5",
    "outputId": "522fbc9b-ce3a-4c14-b060-4635347410c7"
   },
   "outputs": [],
   "source": [
    "# Crear la gráfica de dispersión mejorada\n",
    "plt.figure(figsize=(8, 5))\n",
    "sns.set_style(\"whitegrid\")\n",
    "\n",
    "# Gráfico de dispersión\n",
    "sns.scatterplot(\n",
    "    x=relevant_data['budget'], \n",
    "    y=relevant_data['gross'], \n",
    "    color='teal', \n",
    "    alpha=0.7, \n",
    "    edgecolor='black'\n",
    ")\n",
    "\n",
    "# Título y etiquetas de los ejes\n",
    "plt.title('Relación entre Presupuesto y Ganancias', fontsize=18, fontweight='bold', pad=15)\n",
    "plt.xlabel('Presupuesto (USD)', fontsize=14, labelpad=10)\n",
    "plt.ylabel('Ganancias (USD)', fontsize=14, labelpad=10)\n",
    "\n",
    "# Ajuste de etiquetas en los ejes\n",
    "plt.xticks(fontsize=12)\n",
    "plt.yticks(fontsize=12)\n",
    "\n",
    "# Líneas de referencia (media)\n",
    "plt.axhline(relevant_data['gross'].mean(), color='red', linestyle='--', linewidth=1.5, label=f'Media Ganancias: {relevant_data[\"gross\"].mean():,.0f}')\n",
    "plt.axvline(relevant_data['budget'].mean(), color='blue', linestyle='--', linewidth=1.5, label=f'Media Presupuesto: {relevant_data[\"budget\"].mean():,.0f}')\n",
    "\n",
    "# Leyenda\n",
    "plt.legend(fontsize=12, loc='upper left', frameon=True)\n",
    "\n",
    "# Ajustar diseño\n",
    "plt.tight_layout()\n",
    "plt.show()\n",
    "\n"
   ]
  },
  {
   "cell_type": "markdown",
   "id": "0be9be79",
   "metadata": {},
   "source": [
    "El gráfico muestra la relación entre el presupuesto y las ganancias de las películas. La mayoría de las producciones tienen presupuestos bajos, con una concentración cerca de la mediana de 45,284,681 USD (línea azul discontinua). Las ganancias también están agrupadas en valores bajos, con una media de 51,186,792 USD (línea roja discontinua), aunque se observan algunos puntos extremos con ganancias y presupuestos muy altos.\n",
    "\n",
    "En general, no parece haber una relación clara y proporcional entre presupuesto y ganancias, ya que muchas películas con presupuestos bajos logran ganancias similares a aquellas con presupuestos más altos. Los valores extremos en ambos ejes sugieren que solo unas pocas producciones escapan a esta tendencia, generando ingresos significativamente mayores."
   ]
  },
  {
   "cell_type": "markdown",
   "id": "cbc121be",
   "metadata": {},
   "source": [
    "## <div style=\"text-align:left; border-radius:10px; padding:10px; margin:5px 0; font-size:50%; font-family:Arial, sans-serif; background-color:#f2f2f2; color:#145214; overflow:hidden; box-shadow:0 2px 4px rgba(0, 0, 0, 0.1);\"><b>4.6. Mejores puntajes IMDB</b></div>\n",
    "\n"
   ]
  },
  {
   "cell_type": "code",
   "execution_count": null,
   "id": "99598bad",
   "metadata": {},
   "outputs": [],
   "source": [
    "# Ordenar las películas por IMDb score\n",
    "top_30_movies_sorted = relevant_data.sort_values(by='imdb_score', ascending=False).head(30)\n",
    "\n",
    "# Crear la gráfica mejorada\n",
    "plt.figure(figsize=(10, 6))\n",
    "sns.set_style(\"whitegrid\")\n",
    "\n",
    "# Gráfico de barras\n",
    "sns.barplot(\n",
    "    x='movie_title', \n",
    "    y='imdb_score', \n",
    "    data=top_30_movies_sorted, \n",
    "    palette='magma'\n",
    ")\n",
    "\n",
    "# Añadir título y etiquetas\n",
    "plt.title('Top 30 Películas con Mejores Puntajes IMDb', fontsize=18, fontweight='bold', pad=15)\n",
    "plt.xlabel('Película', fontsize=14, labelpad=10)\n",
    "plt.ylabel('Puntaje IMDb', fontsize=14, labelpad=10)\n",
    "\n",
    "# Rotación y ajuste de etiquetas del eje X\n",
    "plt.xticks(rotation=45, ha='right', fontsize=12)\n",
    "\n",
    "# Añadir líneas de referencia para mejorar visualización\n",
    "plt.axhline(9, color='green', linestyle='--', linewidth=1.5, label='Excelente (>= 9)')\n",
    "plt.axhline(8, color='orange', linestyle='--', linewidth=1.5, label='Muy bueno (>= 8)')\n",
    "\n",
    "# Leyenda\n",
    "plt.legend(fontsize=12, loc='upper right', frameon=True)\n",
    "\n",
    "# Ajustar diseño\n",
    "plt.tight_layout()\n",
    "plt.show()\n"
   ]
  },
  {
   "cell_type": "markdown",
   "id": "6e2635e6",
   "metadata": {},
   "source": [
    "Este gráfico muestra el Top 30 de películas con mejores puntajes IMDb, organizadas por su calificación. Todas las películas en este grupo tienen puntajes superiores a 8, destacando la excelencia en la percepción del público según IMDb. Las películas con calificaciones iguales o mayores a 9 (zona marcada como \"Excelente\" con una línea verde) son especialmente notables, lideradas por títulos como The Shawshank Redemption y The Godfather.\n",
    "\n",
    "El resto de las películas tienen puntajes entre 8 y 9, consideradas como \"Muy buenas\" (zona delimitada por la línea naranja). Esto refleja que el Top 30 está compuesto por obras cinematográficas de gran calidad y relevancia cultural, siendo clásicos y favoritas del público. La distribución muestra una ligera variación entre estas películas, pero todas son consistentemente bien valoradas."
   ]
  },
  {
   "cell_type": "markdown",
   "id": "c1f52a82",
   "metadata": {
    "id": "c1f52a82",
    "papermill": {
     "duration": 0.015737,
     "end_time": "2024-11-13T15:26:38.997376",
     "exception": false,
     "start_time": "2024-11-13T15:26:38.981639",
     "status": "completed"
    },
    "tags": []
   },
   "source": [
    "# <div style=\"text-align:left; border-radius:15px; padding:15px; margin:0; font-size:60%; font-family:Arial, sans-serif; background-color:#083307; color:#E5EFE5; overflow:hidden; box-shadow:0 4px 8px rgba(0, 0, 0, 0.3);\"><b> 5. Preparacion de los Datos para el modelo </b></div>"
   ]
  },
  {
   "cell_type": "markdown",
   "id": "2814457b",
   "metadata": {
    "id": "2814457b",
    "papermill": {
     "duration": 0.015908,
     "end_time": "2024-11-13T15:26:39.031984",
     "exception": false,
     "start_time": "2024-11-13T15:26:39.016076",
     "status": "completed"
    },
    "tags": []
   },
   "source": [
    "- **Paso 8: Preprocesamiento para la entrada del modelo**. Nos aseguraremos de que las variables de entrada tengan el correcto formato. se aplicaran one hot encoding y standar scaler para el proceso."
   ]
  },
  {
   "cell_type": "code",
   "execution_count": 78,
   "id": "d68827af",
   "metadata": {},
   "outputs": [
    {
     "data": {
      "text/html": [
       "<div>\n",
       "<style scoped>\n",
       "    .dataframe tbody tr th:only-of-type {\n",
       "        vertical-align: middle;\n",
       "    }\n",
       "\n",
       "    .dataframe tbody tr th {\n",
       "        vertical-align: top;\n",
       "    }\n",
       "\n",
       "    .dataframe thead th {\n",
       "        text-align: right;\n",
       "    }\n",
       "</style>\n",
       "<table border=\"1\" class=\"dataframe\">\n",
       "  <thead>\n",
       "    <tr style=\"text-align: right;\">\n",
       "      <th></th>\n",
       "      <th>duration</th>\n",
       "      <th>num_critic_for_reviews</th>\n",
       "      <th>director_facebook_likes</th>\n",
       "      <th>actor_1_facebook_likes</th>\n",
       "      <th>actor_2_facebook_likes</th>\n",
       "      <th>actor_3_facebook_likes</th>\n",
       "      <th>cast_total_facebook_likes</th>\n",
       "      <th>num_voted_users</th>\n",
       "      <th>gross</th>\n",
       "      <th>budget</th>\n",
       "      <th>movie_facebook_likes</th>\n",
       "    </tr>\n",
       "  </thead>\n",
       "  <tbody>\n",
       "    <tr>\n",
       "      <th>0</th>\n",
       "      <td>2.999943</td>\n",
       "      <td>4.512030</td>\n",
       "      <td>-0.259274</td>\n",
       "      <td>-0.429092</td>\n",
       "      <td>-0.231302</td>\n",
       "      <td>0.054153</td>\n",
       "      <td>-0.341032</td>\n",
       "      <td>5.193151</td>\n",
       "      <td>10.154671</td>\n",
       "      <td>0.860923</td>\n",
       "      <td>1.117825</td>\n",
       "    </tr>\n",
       "    <tr>\n",
       "      <th>1</th>\n",
       "      <td>2.603157</td>\n",
       "      <td>1.116867</td>\n",
       "      <td>-0.072954</td>\n",
       "      <td>2.107003</td>\n",
       "      <td>0.674137</td>\n",
       "      <td>0.131826</td>\n",
       "      <td>1.956191</td>\n",
       "      <td>2.442030</td>\n",
       "      <td>3.696661</td>\n",
       "      <td>1.143832</td>\n",
       "      <td>-0.429453</td>\n",
       "    </tr>\n",
       "    <tr>\n",
       "      <th>2</th>\n",
       "      <td>1.677321</td>\n",
       "      <td>3.536223</td>\n",
       "      <td>-0.259274</td>\n",
       "      <td>0.221189</td>\n",
       "      <td>-0.352280</td>\n",
       "      <td>-0.317606</td>\n",
       "      <td>0.021426</td>\n",
       "      <td>1.146951</td>\n",
       "      <td>2.131484</td>\n",
       "      <td>0.896848</td>\n",
       "      <td>3.555961</td>\n",
       "    </tr>\n",
       "    <tr>\n",
       "      <th>3</th>\n",
       "      <td>2.382720</td>\n",
       "      <td>5.237837</td>\n",
       "      <td>7.021439</td>\n",
       "      <td>1.261638</td>\n",
       "      <td>4.684448</td>\n",
       "      <td>11.916692</td>\n",
       "      <td>5.039619</td>\n",
       "      <td>6.904435</td>\n",
       "      <td>5.682681</td>\n",
       "      <td>0.919301</td>\n",
       "      <td>7.260052</td>\n",
       "    </tr>\n",
       "    <tr>\n",
       "      <th>4</th>\n",
       "      <td>0.971923</td>\n",
       "      <td>2.407190</td>\n",
       "      <td>-0.102077</td>\n",
       "      <td>-0.452502</td>\n",
       "      <td>-0.299032</td>\n",
       "      <td>-0.119941</td>\n",
       "      <td>-0.497344</td>\n",
       "      <td>0.724893</td>\n",
       "      <td>0.313120</td>\n",
       "      <td>0.980822</td>\n",
       "      <td>0.695840</td>\n",
       "    </tr>\n",
       "  </tbody>\n",
       "</table>\n",
       "</div>"
      ],
      "text/plain": [
       "   duration  num_critic_for_reviews  director_facebook_likes  \\\n",
       "0  2.999943                4.512030                -0.259274   \n",
       "1  2.603157                1.116867                -0.072954   \n",
       "2  1.677321                3.536223                -0.259274   \n",
       "3  2.382720                5.237837                 7.021439   \n",
       "4  0.971923                2.407190                -0.102077   \n",
       "\n",
       "   actor_1_facebook_likes  actor_2_facebook_likes  actor_3_facebook_likes  \\\n",
       "0               -0.429092               -0.231302                0.054153   \n",
       "1                2.107003                0.674137                0.131826   \n",
       "2                0.221189               -0.352280               -0.317606   \n",
       "3                1.261638                4.684448               11.916692   \n",
       "4               -0.452502               -0.299032               -0.119941   \n",
       "\n",
       "   cast_total_facebook_likes  num_voted_users      gross    budget  \\\n",
       "0                  -0.341032         5.193151  10.154671  0.860923   \n",
       "1                   1.956191         2.442030   3.696661  1.143832   \n",
       "2                   0.021426         1.146951   2.131484  0.896848   \n",
       "3                   5.039619         6.904435   5.682681  0.919301   \n",
       "4                  -0.497344         0.724893   0.313120  0.980822   \n",
       "\n",
       "   movie_facebook_likes  \n",
       "0              1.117825  \n",
       "1             -0.429453  \n",
       "2              3.555961  \n",
       "3              7.260052  \n",
       "4              0.695840  "
      ]
     },
     "execution_count": 78,
     "metadata": {},
     "output_type": "execute_result"
    }
   ],
   "source": [
    "from sklearn.preprocessing import StandardScaler\n",
    "\n",
    "# Definimos las columnas numéricas que serán normalizadas\n",
    "numeric_columns = [\n",
    "    'duration',\n",
    "    'num_critic_for_reviews',\n",
    "    'director_facebook_likes',\n",
    "    'actor_1_facebook_likes',\n",
    "    'actor_2_facebook_likes',\n",
    "    'actor_3_facebook_likes',\n",
    "    'cast_total_facebook_likes',\n",
    "    'num_voted_users',\n",
    "    'gross',\n",
    "    'budget',\n",
    "    'movie_facebook_likes'\n",
    "]\n",
    "\n",
    "# Validamos que las columnas numéricas existan en el DataFrame\n",
    "missing_columns = [col for col in numeric_columns if col not in relevant_data.columns]\n",
    "if missing_columns:\n",
    "    raise ValueError(f\"Las siguientes columnas están ausentes en el DataFrame: {missing_columns}\")\n",
    "\n",
    "# Normalizamos las columnas seleccionadas utilizando StandardScaler\n",
    "scaler = StandardScaler()\n",
    "relevant_data[numeric_columns] = scaler.fit_transform(relevant_data[numeric_columns])\n",
    "\n",
    "# Mostramos una vista previa del DataFrame después de la normalización\n",
    "relevant_data[numeric_columns].head()\n"
   ]
  },
  {
   "cell_type": "code",
   "execution_count": 79,
   "id": "1p3TqHRcu7-j",
   "metadata": {
    "id": "1p3TqHRcu7-j"
   },
   "outputs": [],
   "source": [
    "relevant_data.to_csv('relevant_data.csv', index=False)"
   ]
  },
  {
   "cell_type": "markdown",
   "id": "a6e60a0f",
   "metadata": {},
   "source": [
    "Leer datos preparados"
   ]
  },
  {
   "cell_type": "code",
   "execution_count": 80,
   "id": "TcDhSoIY6lS0",
   "metadata": {
    "colab": {
     "base_uri": "https://localhost:8080/",
     "height": 377
    },
    "id": "TcDhSoIY6lS0",
    "outputId": "77524767-4810-420c-82a6-d1599efc0352"
   },
   "outputs": [
    {
     "data": {
      "text/html": [
       "<div>\n",
       "<style scoped>\n",
       "    .dataframe tbody tr th:only-of-type {\n",
       "        vertical-align: middle;\n",
       "    }\n",
       "\n",
       "    .dataframe tbody tr th {\n",
       "        vertical-align: top;\n",
       "    }\n",
       "\n",
       "    .dataframe thead th {\n",
       "        text-align: right;\n",
       "    }\n",
       "</style>\n",
       "<table border=\"1\" class=\"dataframe\">\n",
       "  <thead>\n",
       "    <tr style=\"text-align: right;\">\n",
       "      <th></th>\n",
       "      <th>movie_title</th>\n",
       "      <th>duration</th>\n",
       "      <th>num_critic_for_reviews</th>\n",
       "      <th>director_facebook_likes</th>\n",
       "      <th>actor_1_facebook_likes</th>\n",
       "      <th>actor_2_facebook_likes</th>\n",
       "      <th>actor_3_facebook_likes</th>\n",
       "      <th>cast_total_facebook_likes</th>\n",
       "      <th>num_voted_users</th>\n",
       "      <th>gross</th>\n",
       "      <th>...</th>\n",
       "      <th>Music</th>\n",
       "      <th>Musical</th>\n",
       "      <th>Mystery</th>\n",
       "      <th>Romance</th>\n",
       "      <th>Sci-Fi</th>\n",
       "      <th>Short</th>\n",
       "      <th>Sport</th>\n",
       "      <th>Thriller</th>\n",
       "      <th>War</th>\n",
       "      <th>Western</th>\n",
       "    </tr>\n",
       "  </thead>\n",
       "  <tbody>\n",
       "    <tr>\n",
       "      <th>0</th>\n",
       "      <td>Avatar</td>\n",
       "      <td>2.999943</td>\n",
       "      <td>4.512030</td>\n",
       "      <td>-0.259274</td>\n",
       "      <td>-0.429092</td>\n",
       "      <td>-0.231302</td>\n",
       "      <td>0.054153</td>\n",
       "      <td>-0.341032</td>\n",
       "      <td>5.193151</td>\n",
       "      <td>10.154671</td>\n",
       "      <td>...</td>\n",
       "      <td>0</td>\n",
       "      <td>0</td>\n",
       "      <td>0</td>\n",
       "      <td>0</td>\n",
       "      <td>1</td>\n",
       "      <td>0</td>\n",
       "      <td>0</td>\n",
       "      <td>0</td>\n",
       "      <td>0</td>\n",
       "      <td>0</td>\n",
       "    </tr>\n",
       "    <tr>\n",
       "      <th>1</th>\n",
       "      <td>Pirates of the Caribbean: At World's End</td>\n",
       "      <td>2.603157</td>\n",
       "      <td>1.116867</td>\n",
       "      <td>-0.072954</td>\n",
       "      <td>2.107003</td>\n",
       "      <td>0.674137</td>\n",
       "      <td>0.131826</td>\n",
       "      <td>1.956191</td>\n",
       "      <td>2.442030</td>\n",
       "      <td>3.696661</td>\n",
       "      <td>...</td>\n",
       "      <td>0</td>\n",
       "      <td>0</td>\n",
       "      <td>0</td>\n",
       "      <td>0</td>\n",
       "      <td>0</td>\n",
       "      <td>0</td>\n",
       "      <td>0</td>\n",
       "      <td>0</td>\n",
       "      <td>0</td>\n",
       "      <td>0</td>\n",
       "    </tr>\n",
       "    <tr>\n",
       "      <th>2</th>\n",
       "      <td>Spectre</td>\n",
       "      <td>1.677321</td>\n",
       "      <td>3.536223</td>\n",
       "      <td>-0.259274</td>\n",
       "      <td>0.221189</td>\n",
       "      <td>-0.352280</td>\n",
       "      <td>-0.317606</td>\n",
       "      <td>0.021426</td>\n",
       "      <td>1.146951</td>\n",
       "      <td>2.131484</td>\n",
       "      <td>...</td>\n",
       "      <td>0</td>\n",
       "      <td>0</td>\n",
       "      <td>0</td>\n",
       "      <td>0</td>\n",
       "      <td>0</td>\n",
       "      <td>0</td>\n",
       "      <td>0</td>\n",
       "      <td>1</td>\n",
       "      <td>0</td>\n",
       "      <td>0</td>\n",
       "    </tr>\n",
       "    <tr>\n",
       "      <th>3</th>\n",
       "      <td>The Dark Knight Rises</td>\n",
       "      <td>2.382720</td>\n",
       "      <td>5.237837</td>\n",
       "      <td>7.021439</td>\n",
       "      <td>1.261638</td>\n",
       "      <td>4.684448</td>\n",
       "      <td>11.916692</td>\n",
       "      <td>5.039619</td>\n",
       "      <td>6.904435</td>\n",
       "      <td>5.682681</td>\n",
       "      <td>...</td>\n",
       "      <td>0</td>\n",
       "      <td>0</td>\n",
       "      <td>0</td>\n",
       "      <td>0</td>\n",
       "      <td>0</td>\n",
       "      <td>0</td>\n",
       "      <td>0</td>\n",
       "      <td>1</td>\n",
       "      <td>0</td>\n",
       "      <td>0</td>\n",
       "    </tr>\n",
       "    <tr>\n",
       "      <th>4</th>\n",
       "      <td>John Carter</td>\n",
       "      <td>0.971923</td>\n",
       "      <td>2.407190</td>\n",
       "      <td>-0.102077</td>\n",
       "      <td>-0.452502</td>\n",
       "      <td>-0.299032</td>\n",
       "      <td>-0.119941</td>\n",
       "      <td>-0.497344</td>\n",
       "      <td>0.724893</td>\n",
       "      <td>0.313120</td>\n",
       "      <td>...</td>\n",
       "      <td>0</td>\n",
       "      <td>0</td>\n",
       "      <td>0</td>\n",
       "      <td>0</td>\n",
       "      <td>1</td>\n",
       "      <td>0</td>\n",
       "      <td>0</td>\n",
       "      <td>0</td>\n",
       "      <td>0</td>\n",
       "      <td>0</td>\n",
       "    </tr>\n",
       "  </tbody>\n",
       "</table>\n",
       "<p>5 rows × 36 columns</p>\n",
       "</div>"
      ],
      "text/plain": [
       "                                 movie_title  duration  \\\n",
       "0                                    Avatar   2.999943   \n",
       "1  Pirates of the Caribbean: At World's End   2.603157   \n",
       "2                                   Spectre   1.677321   \n",
       "3                     The Dark Knight Rises   2.382720   \n",
       "4                               John Carter   0.971923   \n",
       "\n",
       "   num_critic_for_reviews  director_facebook_likes  actor_1_facebook_likes  \\\n",
       "0                4.512030                -0.259274               -0.429092   \n",
       "1                1.116867                -0.072954                2.107003   \n",
       "2                3.536223                -0.259274                0.221189   \n",
       "3                5.237837                 7.021439                1.261638   \n",
       "4                2.407190                -0.102077               -0.452502   \n",
       "\n",
       "   actor_2_facebook_likes  actor_3_facebook_likes  cast_total_facebook_likes  \\\n",
       "0               -0.231302                0.054153                  -0.341032   \n",
       "1                0.674137                0.131826                   1.956191   \n",
       "2               -0.352280               -0.317606                   0.021426   \n",
       "3                4.684448               11.916692                   5.039619   \n",
       "4               -0.299032               -0.119941                  -0.497344   \n",
       "\n",
       "   num_voted_users      gross  ...  Music  Musical  Mystery  Romance  Sci-Fi  \\\n",
       "0         5.193151  10.154671  ...      0        0        0        0       1   \n",
       "1         2.442030   3.696661  ...      0        0        0        0       0   \n",
       "2         1.146951   2.131484  ...      0        0        0        0       0   \n",
       "3         6.904435   5.682681  ...      0        0        0        0       0   \n",
       "4         0.724893   0.313120  ...      0        0        0        0       1   \n",
       "\n",
       "   Short  Sport  Thriller  War  Western  \n",
       "0      0      0         0    0        0  \n",
       "1      0      0         0    0        0  \n",
       "2      0      0         1    0        0  \n",
       "3      0      0         1    0        0  \n",
       "4      0      0         0    0        0  \n",
       "\n",
       "[5 rows x 36 columns]"
      ]
     },
     "execution_count": 80,
     "metadata": {},
     "output_type": "execute_result"
    }
   ],
   "source": [
    "relevant_data = pd.read_csv('relevant_data.csv')\n",
    "relevant_data.head()"
   ]
  },
  {
   "cell_type": "markdown",
   "id": "84f3f63b",
   "metadata": {},
   "source": [
    "<div style=\"text-align:left; border-radius:15px; padding:15px; margin:0; font-size:150%; font-family:Arial, sans-serif; background-color:#083307; color:#E5EFE5; overflow:hidden; box-shadow:0 4px 8px rgba(0, 0, 0, 0.3);\">\n",
    "    <b>6. Sistema de Recomendación</b>\n",
    "</div>"
   ]
  },
  {
   "cell_type": "code",
   "execution_count": 81,
   "id": "7OMi677WOlU0",
   "metadata": {
    "colab": {
     "base_uri": "https://localhost:8080/",
     "height": 1000
    },
    "id": "7OMi677WOlU0",
    "outputId": "4369fffc-82fa-45f1-a30a-c82a848ccc8a"
   },
   "outputs": [
    {
     "name": "stderr",
     "output_type": "stream",
     "text": [
      "c:\\Users\\carlo\\.conda\\envs\\ds_env\\Lib\\site-packages\\keras\\src\\layers\\core\\dense.py:87: UserWarning: Do not pass an `input_shape`/`input_dim` argument to a layer. When using Sequential models, prefer using an `Input(shape)` object as the first layer in the model instead.\n",
      "  super().__init__(activity_regularizer=activity_regularizer, **kwargs)\n"
     ]
    },
    {
     "data": {
      "text/html": [
       "<pre style=\"white-space:pre;overflow-x:auto;line-height:normal;font-family:Menlo,'DejaVu Sans Mono',consolas,'Courier New',monospace\"><span style=\"font-weight: bold\">Model: \"sequential_7\"</span>\n",
       "</pre>\n"
      ],
      "text/plain": [
       "\u001b[1mModel: \"sequential_7\"\u001b[0m\n"
      ]
     },
     "metadata": {},
     "output_type": "display_data"
    },
    {
     "data": {
      "text/html": [
       "<pre style=\"white-space:pre;overflow-x:auto;line-height:normal;font-family:Menlo,'DejaVu Sans Mono',consolas,'Courier New',monospace\">┏━━━━━━━━━━━━━━━━━━━━━━━━━━━━━━━━━┳━━━━━━━━━━━━━━━━━━━━━━━━┳━━━━━━━━━━━━━━━┓\n",
       "┃<span style=\"font-weight: bold\"> Layer (type)                    </span>┃<span style=\"font-weight: bold\"> Output Shape           </span>┃<span style=\"font-weight: bold\">       Param # </span>┃\n",
       "┡━━━━━━━━━━━━━━━━━━━━━━━━━━━━━━━━━╇━━━━━━━━━━━━━━━━━━━━━━━━╇━━━━━━━━━━━━━━━┩\n",
       "│ dense_21 (<span style=\"color: #0087ff; text-decoration-color: #0087ff\">Dense</span>)                │ (<span style=\"color: #00d7ff; text-decoration-color: #00d7ff\">None</span>, <span style=\"color: #00af00; text-decoration-color: #00af00\">128</span>)            │         <span style=\"color: #00af00; text-decoration-color: #00af00\">4,480</span> │\n",
       "├─────────────────────────────────┼────────────────────────┼───────────────┤\n",
       "│ dense_22 (<span style=\"color: #0087ff; text-decoration-color: #0087ff\">Dense</span>)                │ (<span style=\"color: #00d7ff; text-decoration-color: #00d7ff\">None</span>, <span style=\"color: #00af00; text-decoration-color: #00af00\">64</span>)             │         <span style=\"color: #00af00; text-decoration-color: #00af00\">8,256</span> │\n",
       "├─────────────────────────────────┼────────────────────────┼───────────────┤\n",
       "│ dense_23 (<span style=\"color: #0087ff; text-decoration-color: #0087ff\">Dense</span>)                │ (<span style=\"color: #00d7ff; text-decoration-color: #00d7ff\">None</span>, <span style=\"color: #00af00; text-decoration-color: #00af00\">1</span>)              │            <span style=\"color: #00af00; text-decoration-color: #00af00\">65</span> │\n",
       "└─────────────────────────────────┴────────────────────────┴───────────────┘\n",
       "</pre>\n"
      ],
      "text/plain": [
       "┏━━━━━━━━━━━━━━━━━━━━━━━━━━━━━━━━━┳━━━━━━━━━━━━━━━━━━━━━━━━┳━━━━━━━━━━━━━━━┓\n",
       "┃\u001b[1m \u001b[0m\u001b[1mLayer (type)                   \u001b[0m\u001b[1m \u001b[0m┃\u001b[1m \u001b[0m\u001b[1mOutput Shape          \u001b[0m\u001b[1m \u001b[0m┃\u001b[1m \u001b[0m\u001b[1m      Param #\u001b[0m\u001b[1m \u001b[0m┃\n",
       "┡━━━━━━━━━━━━━━━━━━━━━━━━━━━━━━━━━╇━━━━━━━━━━━━━━━━━━━━━━━━╇━━━━━━━━━━━━━━━┩\n",
       "│ dense_21 (\u001b[38;5;33mDense\u001b[0m)                │ (\u001b[38;5;45mNone\u001b[0m, \u001b[38;5;34m128\u001b[0m)            │         \u001b[38;5;34m4,480\u001b[0m │\n",
       "├─────────────────────────────────┼────────────────────────┼───────────────┤\n",
       "│ dense_22 (\u001b[38;5;33mDense\u001b[0m)                │ (\u001b[38;5;45mNone\u001b[0m, \u001b[38;5;34m64\u001b[0m)             │         \u001b[38;5;34m8,256\u001b[0m │\n",
       "├─────────────────────────────────┼────────────────────────┼───────────────┤\n",
       "│ dense_23 (\u001b[38;5;33mDense\u001b[0m)                │ (\u001b[38;5;45mNone\u001b[0m, \u001b[38;5;34m1\u001b[0m)              │            \u001b[38;5;34m65\u001b[0m │\n",
       "└─────────────────────────────────┴────────────────────────┴───────────────┘\n"
      ]
     },
     "metadata": {},
     "output_type": "display_data"
    },
    {
     "data": {
      "text/html": [
       "<pre style=\"white-space:pre;overflow-x:auto;line-height:normal;font-family:Menlo,'DejaVu Sans Mono',consolas,'Courier New',monospace\"><span style=\"font-weight: bold\"> Total params: </span><span style=\"color: #00af00; text-decoration-color: #00af00\">12,801</span> (50.00 KB)\n",
       "</pre>\n"
      ],
      "text/plain": [
       "\u001b[1m Total params: \u001b[0m\u001b[38;5;34m12,801\u001b[0m (50.00 KB)\n"
      ]
     },
     "metadata": {},
     "output_type": "display_data"
    },
    {
     "data": {
      "text/html": [
       "<pre style=\"white-space:pre;overflow-x:auto;line-height:normal;font-family:Menlo,'DejaVu Sans Mono',consolas,'Courier New',monospace\"><span style=\"font-weight: bold\"> Trainable params: </span><span style=\"color: #00af00; text-decoration-color: #00af00\">12,801</span> (50.00 KB)\n",
       "</pre>\n"
      ],
      "text/plain": [
       "\u001b[1m Trainable params: \u001b[0m\u001b[38;5;34m12,801\u001b[0m (50.00 KB)\n"
      ]
     },
     "metadata": {},
     "output_type": "display_data"
    },
    {
     "data": {
      "text/html": [
       "<pre style=\"white-space:pre;overflow-x:auto;line-height:normal;font-family:Menlo,'DejaVu Sans Mono',consolas,'Courier New',monospace\"><span style=\"font-weight: bold\"> Non-trainable params: </span><span style=\"color: #00af00; text-decoration-color: #00af00\">0</span> (0.00 B)\n",
       "</pre>\n"
      ],
      "text/plain": [
       "\u001b[1m Non-trainable params: \u001b[0m\u001b[38;5;34m0\u001b[0m (0.00 B)\n"
      ]
     },
     "metadata": {},
     "output_type": "display_data"
    },
    {
     "name": "stdout",
     "output_type": "stream",
     "text": [
      "Epoch 1/20\n",
      "\u001b[1m97/97\u001b[0m \u001b[32m━━━━━━━━━━━━━━━━━━━━\u001b[0m\u001b[37m\u001b[0m \u001b[1m1s\u001b[0m 2ms/step - loss: 23.2969 - mae: 4.2552 - val_loss: 3.8152 - val_mae: 1.2701\n",
      "Epoch 2/20\n",
      "\u001b[1m97/97\u001b[0m \u001b[32m━━━━━━━━━━━━━━━━━━━━\u001b[0m\u001b[37m\u001b[0m \u001b[1m0s\u001b[0m 1ms/step - loss: 2.5034 - mae: 1.1202 - val_loss: 2.3686 - val_mae: 1.0856\n",
      "Epoch 3/20\n",
      "\u001b[1m97/97\u001b[0m \u001b[32m━━━━━━━━━━━━━━━━━━━━\u001b[0m\u001b[37m\u001b[0m \u001b[1m0s\u001b[0m 984us/step - loss: 1.7854 - mae: 1.0075 - val_loss: 1.8039 - val_mae: 0.9716\n",
      "Epoch 4/20\n",
      "\u001b[1m97/97\u001b[0m \u001b[32m━━━━━━━━━━━━━━━━━━━━\u001b[0m\u001b[37m\u001b[0m \u001b[1m0s\u001b[0m 928us/step - loss: 1.3304 - mae: 0.8768 - val_loss: 1.4700 - val_mae: 0.8575\n",
      "Epoch 5/20\n",
      "\u001b[1m97/97\u001b[0m \u001b[32m━━━━━━━━━━━━━━━━━━━━\u001b[0m\u001b[37m\u001b[0m \u001b[1m0s\u001b[0m 896us/step - loss: 1.0766 - mae: 0.7924 - val_loss: 1.2420 - val_mae: 0.7741\n",
      "Epoch 6/20\n",
      "\u001b[1m97/97\u001b[0m \u001b[32m━━━━━━━━━━━━━━━━━━━━\u001b[0m\u001b[37m\u001b[0m \u001b[1m0s\u001b[0m 888us/step - loss: 0.8370 - mae: 0.7025 - val_loss: 1.0933 - val_mae: 0.7125\n",
      "Epoch 7/20\n",
      "\u001b[1m97/97\u001b[0m \u001b[32m━━━━━━━━━━━━━━━━━━━━\u001b[0m\u001b[37m\u001b[0m \u001b[1m0s\u001b[0m 910us/step - loss: 0.7706 - mae: 0.6616 - val_loss: 1.0881 - val_mae: 0.6665\n",
      "Epoch 8/20\n",
      "\u001b[1m97/97\u001b[0m \u001b[32m━━━━━━━━━━━━━━━━━━━━\u001b[0m\u001b[37m\u001b[0m \u001b[1m0s\u001b[0m 1ms/step - loss: 0.6635 - mae: 0.6103 - val_loss: 1.0393 - val_mae: 0.6269\n",
      "Epoch 9/20\n",
      "\u001b[1m97/97\u001b[0m \u001b[32m━━━━━━━━━━━━━━━━━━━━\u001b[0m\u001b[37m\u001b[0m \u001b[1m0s\u001b[0m 934us/step - loss: 0.6242 - mae: 0.5878 - val_loss: 1.2773 - val_mae: 0.6161\n",
      "Epoch 10/20\n",
      "\u001b[1m97/97\u001b[0m \u001b[32m━━━━━━━━━━━━━━━━━━━━\u001b[0m\u001b[37m\u001b[0m \u001b[1m0s\u001b[0m 934us/step - loss: 0.5895 - mae: 0.5715 - val_loss: 1.3095 - val_mae: 0.6121\n",
      "Epoch 11/20\n",
      "\u001b[1m97/97\u001b[0m \u001b[32m━━━━━━━━━━━━━━━━━━━━\u001b[0m\u001b[37m\u001b[0m \u001b[1m0s\u001b[0m 943us/step - loss: 0.5560 - mae: 0.5529 - val_loss: 1.6124 - val_mae: 0.6032\n",
      "Epoch 12/20\n",
      "\u001b[1m97/97\u001b[0m \u001b[32m━━━━━━━━━━━━━━━━━━━━\u001b[0m\u001b[37m\u001b[0m \u001b[1m0s\u001b[0m 1ms/step - loss: 0.5178 - mae: 0.5285 - val_loss: 1.8470 - val_mae: 0.5988\n",
      "Epoch 13/20\n",
      "\u001b[1m97/97\u001b[0m \u001b[32m━━━━━━━━━━━━━━━━━━━━\u001b[0m\u001b[37m\u001b[0m \u001b[1m0s\u001b[0m 954us/step - loss: 0.4948 - mae: 0.5208 - val_loss: 1.9604 - val_mae: 0.6085\n",
      "Epoch 14/20\n",
      "\u001b[1m97/97\u001b[0m \u001b[32m━━━━━━━━━━━━━━━━━━━━\u001b[0m\u001b[37m\u001b[0m \u001b[1m0s\u001b[0m 985us/step - loss: 0.4852 - mae: 0.5129 - val_loss: 2.2038 - val_mae: 0.5976\n",
      "Epoch 15/20\n",
      "\u001b[1m97/97\u001b[0m \u001b[32m━━━━━━━━━━━━━━━━━━━━\u001b[0m\u001b[37m\u001b[0m \u001b[1m0s\u001b[0m 964us/step - loss: 0.4691 - mae: 0.4986 - val_loss: 2.3392 - val_mae: 0.5859\n",
      "Epoch 16/20\n",
      "\u001b[1m97/97\u001b[0m \u001b[32m━━━━━━━━━━━━━━━━━━━━\u001b[0m\u001b[37m\u001b[0m \u001b[1m0s\u001b[0m 971us/step - loss: 0.5306 - mae: 0.5194 - val_loss: 2.5399 - val_mae: 0.5990\n",
      "Epoch 17/20\n",
      "\u001b[1m97/97\u001b[0m \u001b[32m━━━━━━━━━━━━━━━━━━━━\u001b[0m\u001b[37m\u001b[0m \u001b[1m0s\u001b[0m 965us/step - loss: 0.4603 - mae: 0.4867 - val_loss: 2.9330 - val_mae: 0.6037\n",
      "Epoch 18/20\n",
      "\u001b[1m97/97\u001b[0m \u001b[32m━━━━━━━━━━━━━━━━━━━━\u001b[0m\u001b[37m\u001b[0m \u001b[1m0s\u001b[0m 983us/step - loss: 0.4691 - mae: 0.4990 - val_loss: 3.1289 - val_mae: 0.6083\n",
      "Epoch 19/20\n",
      "\u001b[1m97/97\u001b[0m \u001b[32m━━━━━━━━━━━━━━━━━━━━\u001b[0m\u001b[37m\u001b[0m \u001b[1m0s\u001b[0m 954us/step - loss: 0.4591 - mae: 0.4859 - val_loss: 2.8966 - val_mae: 0.6027\n",
      "Epoch 20/20\n",
      "\u001b[1m97/97\u001b[0m \u001b[32m━━━━━━━━━━━━━━━━━━━━\u001b[0m\u001b[37m\u001b[0m \u001b[1m0s\u001b[0m 962us/step - loss: 0.4746 - mae: 0.4959 - val_loss: 3.1198 - val_mae: 0.6159\n"
     ]
    },
    {
     "data": {
      "image/png": "[encoded data removed]",
      "text/plain": [
       "<Figure size 1200x600 with 2 Axes>"
      ]
     },
     "metadata": {},
     "output_type": "display_data"
    },
    {
     "name": "stdout",
     "output_type": "stream",
     "text": [
      "\u001b[1m25/25\u001b[0m \u001b[32m━━━━━━━━━━━━━━━━━━━━\u001b[0m\u001b[37m\u001b[0m \u001b[1m0s\u001b[0m 806us/step - loss: 5.1712 - mae: 0.6658\n",
      "Pérdida del modelo (MSE): 3.1198208332061768\n",
      "Error absoluto medio (MAE): 0.6158722043037415\n"
     ]
    }
   ],
   "source": [
    "# Separación de X y Y\n",
    "X = relevant_data.drop(columns=['imdb_score', 'movie_title'])\n",
    "Y = relevant_data['imdb_score']\n",
    "\n",
    "# Dividir en conjuntos de entrenamiento y prueba\n",
    "X_train, X_test, Y_train, Y_test = train_test_split(X, Y, test_size=0.2, random_state=42)\n",
    "\n",
    "# Construcción del modelo de red neuronal\n",
    "model = Sequential()\n",
    "\n",
    "# Capa de entrada\n",
    "model.add(Dense(128, activation='relu', input_dim=X_train.shape[1]))  # 128 neuronas en la primera capa\n",
    "\n",
    "# Capa oculta\n",
    "model.add(Dense(64, activation='relu'))  # 64 neuronas en la segunda capa\n",
    "\n",
    "# Capa de salida sin función de activación, para permitir predicciones en el rango de 1 a 10\n",
    "model.add(Dense(1))  # Salida única, sin activación\n",
    "\n",
    "# Compilación del modelo con un optimizador ajustado y métricas adicionales\n",
    "optimizer = Adam(learning_rate=0.001)  # Ajuste de la tasa de aprendizaje\n",
    "model.compile(optimizer=optimizer, loss='mean_squared_error', metrics=['mae'])\n",
    "\n",
    "# Resumen del modelo\n",
    "model.summary()\n",
    "\n",
    "# Entrenamiento del modelo y guardar el historial\n",
    "history = model.fit(X_train, Y_train, epochs=20, batch_size=32, validation_data=(X_test, Y_test))\n",
    "\n",
    "# Graficar la pérdida (loss) durante el entrenamiento\n",
    "plt.figure(figsize=(12, 6))\n",
    "\n",
    "# Pérdida de entrenamiento y validación\n",
    "plt.subplot(1, 2, 1)\n",
    "plt.plot(history.history['loss'], label='Pérdida de entrenamiento')\n",
    "plt.plot(history.history['val_loss'], label='Pérdida de validación')\n",
    "plt.title('Pérdida durante el entrenamiento')\n",
    "plt.xlabel('Épocas')\n",
    "plt.ylabel('Pérdida')\n",
    "plt.legend()\n",
    "\n",
    "# Error absoluto medio (MAE) de entrenamiento y validación\n",
    "plt.subplot(1, 2, 2)\n",
    "plt.plot(history.history['mae'], label='MAE de entrenamiento')\n",
    "plt.plot(history.history['val_mae'], label='MAE de validación')\n",
    "plt.title('MAE durante el entrenamiento')\n",
    "plt.xlabel('Épocas')\n",
    "plt.ylabel('MAE')\n",
    "plt.legend()\n",
    "\n",
    "# Mostrar el gráfico\n",
    "plt.tight_layout()\n",
    "plt.show()\n",
    "\n",
    "# Evaluar el modelo\n",
    "loss, mae = model.evaluate(X_test, Y_test)\n",
    "print(f'Pérdida del modelo (MSE): {loss}')\n",
    "print(f'Error absoluto medio (MAE): {mae}')"
   ]
  },
  {
   "cell_type": "code",
   "execution_count": 82,
   "id": "8cdf686e",
   "metadata": {},
   "outputs": [
    {
     "name": "stdout",
     "output_type": "stream",
     "text": [
      "\u001b[1m25/25\u001b[0m \u001b[32m━━━━━━━━━━━━━━━━━━━━\u001b[0m\u001b[37m\u001b[0m \u001b[1m0s\u001b[0m 1ms/step \n",
      "Real: 4.7, Predicción: 5.719931602478027\n",
      "Real: 6.4, Predicción: 6.718206882476807\n",
      "Real: 5.5, Predicción: 5.889621257781982\n",
      "Real: 7.5, Predicción: 6.937219142913818\n",
      "Real: 7.0, Predicción: 6.787709712982178\n",
      "Real: 6.5, Predicción: 6.700225353240967\n",
      "Real: 6.4, Predicción: 6.5258002281188965\n",
      "Real: 5.7, Predicción: 5.091463565826416\n",
      "Real: 5.0, Predicción: 5.4551310539245605\n",
      "Real: 7.4, Predicción: 7.198761463165283\n",
      "Real: 7.5, Predicción: 6.853689670562744\n",
      "Real: 6.9, Predicción: 5.779690742492676\n",
      "Real: 7.3, Predicción: 5.970451831817627\n",
      "Real: 7.7, Predicción: 7.052337646484375\n",
      "Real: 4.3, Predicción: 4.510303974151611\n",
      "Real: 7.2, Predicción: 7.819511413574219\n",
      "Real: 4.7, Predicción: 6.105212688446045\n",
      "Real: 6.7, Predicción: 5.757927417755127\n",
      "Real: 4.3, Predicción: 5.784363269805908\n",
      "Real: 7.6, Predicción: 7.638949394226074\n",
      "Real: 5.9, Predicción: 6.041933536529541\n",
      "Real: 7.5, Predicción: 7.791203022003174\n",
      "Real: 7.6, Predicción: 6.8810954093933105\n",
      "Real: 7.6, Predicción: 6.008957386016846\n",
      "Real: 5.8, Predicción: 5.943858623504639\n",
      "Real: 7.1, Predicción: 6.516646862030029\n",
      "Real: 6.3, Predicción: 5.7924113273620605\n",
      "Real: 6.3, Predicción: 5.722035884857178\n",
      "Real: 7.1, Predicción: 6.460569858551025\n",
      "Real: 6.4, Predicción: 5.851487636566162\n",
      "Real: 5.9, Predicción: 6.452457427978516\n",
      "Real: 7.5, Predicción: 6.701180934906006\n",
      "Real: 7.2, Predicción: 6.353738307952881\n",
      "Real: 7.2, Predicción: 6.3454976081848145\n",
      "Real: 7.9, Predicción: 6.676125526428223\n",
      "Real: 6.8, Predicción: 5.95711088180542\n",
      "Real: 6.1, Predicción: 6.012911319732666\n",
      "Real: 6.3, Predicción: 6.076691150665283\n",
      "Real: 5.8, Predicción: 5.165215969085693\n",
      "Real: 7.2, Predicción: 7.177979946136475\n",
      "Real: 5.7, Predicción: 5.8675456047058105\n",
      "Real: 6.6, Predicción: 5.797739505767822\n",
      "Real: 6.4, Predicción: 6.091402053833008\n",
      "Real: 6.6, Predicción: 6.0485053062438965\n",
      "Real: 6.5, Predicción: 6.654175758361816\n",
      "Real: 6.8, Predicción: 7.281778812408447\n",
      "Real: 5.5, Predicción: 6.249013423919678\n",
      "Real: 6.5, Predicción: 6.016061782836914\n",
      "Real: 6.5, Predicción: 7.029043674468994\n",
      "Real: 8.1, Predicción: 8.440911293029785\n",
      "Real: 4.0, Predicción: 4.8171234130859375\n",
      "Real: 7.5, Predicción: 7.318705081939697\n",
      "Real: 6.8, Predicción: 7.363218784332275\n",
      "Real: 6.6, Predicción: 6.814638614654541\n",
      "Real: 7.1, Predicción: 6.237552165985107\n",
      "Real: 5.3, Predicción: 5.420156955718994\n",
      "Real: 7.6, Predicción: 7.1158528327941895\n",
      "Real: 5.3, Predicción: 5.146856784820557\n",
      "Real: 6.1, Predicción: 6.191799163818359\n",
      "Real: 6.4, Predicción: 6.332396030426025\n",
      "Real: 7.0, Predicción: 6.639159679412842\n",
      "Real: 4.9, Predicción: 5.786973476409912\n",
      "Real: 5.4, Predicción: 6.100327014923096\n",
      "Real: 6.3, Predicción: 5.744085788726807\n",
      "Real: 8.4, Predicción: 10.0\n",
      "Real: 6.6, Predicción: 6.044077396392822\n",
      "Real: 6.1, Predicción: 6.593481540679932\n",
      "Real: 8.3, Predicción: 7.8786396980285645\n",
      "Real: 8.3, Predicción: 7.513988971710205\n",
      "Real: 5.3, Predicción: 5.558352947235107\n",
      "Real: 6.5, Predicción: 5.775790691375732\n",
      "Real: 7.9, Predicción: 7.55663537979126\n",
      "Real: 6.4, Predicción: 6.983604431152344\n",
      "Real: 6.7, Predicción: 6.848966121673584\n",
      "Real: 5.4, Predicción: 4.885239124298096\n",
      "Real: 5.9, Predicción: 5.500638484954834\n",
      "Real: 7.1, Predicción: 6.004185199737549\n",
      "Real: 5.9, Predicción: 5.273693084716797\n",
      "Real: 6.3, Predicción: 6.46212911605835\n",
      "Real: 6.5, Predicción: 6.171741008758545\n",
      "Real: 6.0, Predicción: 6.726389408111572\n",
      "Real: 4.6, Predicción: 5.144347667694092\n",
      "Real: 7.0, Predicción: 6.65087366104126\n",
      "Real: 5.3, Predicción: 5.536580562591553\n",
      "Real: 4.9, Predicción: 6.0037312507629395\n",
      "Real: 7.7, Predicción: 6.315091609954834\n",
      "Real: 6.8, Predicción: 6.091577053070068\n",
      "Real: 6.4, Predicción: 5.5568108558654785\n",
      "Real: 7.2, Predicción: 7.0367512702941895\n",
      "Real: 5.7, Predicción: 5.669246196746826\n",
      "Real: 6.6, Predicción: 5.831653118133545\n",
      "Real: 7.8, Predicción: 7.604905128479004\n",
      "Real: 7.6, Predicción: 7.339499473571777\n",
      "Real: 4.8, Predicción: 5.457778453826904\n",
      "Real: 5.9, Predicción: 5.12332010269165\n",
      "Real: 6.9, Predicción: 6.4670634269714355\n",
      "Real: 6.0, Predicción: 5.659481525421143\n",
      "Real: 6.8, Predicción: 5.873075485229492\n",
      "Real: 5.5, Predicción: 5.9067769050598145\n",
      "Real: 7.2, Predicción: 6.602907180786133\n"
     ]
    }
   ],
   "source": [
    "# Hacer predicciones con el modelo entrenado\n",
    "predictions = model.predict(X_test)\n",
    "\n",
    "# Escalar las predicciones para asegurarnos de que estén entre 1 y 10\n",
    "# Dado que el rango real de imdb_score es [1, 10], necesitamos hacer un escalado\n",
    "predictions = np.clip(predictions, 1, 10)  # Limitar las predicciones a un rango de 1 a 10\n",
    "\n",
    "# Mostrar algunas predicciones junto con los valores reales\n",
    "for i in range(100):\n",
    "    print(f\"Real: {Y_test.iloc[i]}, Predicción: {predictions[i][0]}\")\n",
    "\n",
    "# Función para predecir la similitud de una película con las demás usando la red neuronal\n",
    "def predict_similarity_nn(df):\n",
    "    \"\"\"\n",
    "    Predice la similitud entre todas las películas utilizando la red neuronal.\n",
    "    \"\"\"\n",
    "    # Realizamos predicciones para todas las películas\n",
    "    predictions = model.predict(X)  # Usar X original para todas las películas\n",
    "\n",
    "    # Limitar las predicciones a un rango de 1 a 10\n",
    "    predictions = np.clip(predictions, 1, 10)  # Escalar a [1, 10]\n",
    "\n",
    "    # Crear un DataFrame con las predicciones y las películas\n",
    "    pred_df = pd.DataFrame(predictions, columns=['predicted_imdb_score'], index=df['movie_title'])\n",
    "\n",
    "    # Ordenar las películas por la predicción de mayor a menor\n",
    "    pred_df = pred_df.sort_values(by='predicted_imdb_score', ascending=False)\n",
    "\n",
    "    return pred_df\n",
    "\n",
    "# Función para obtener el vector de características de una película por título\n",
    "def get_movie_vector(title, df):\n",
    "    \"\"\"\n",
    "    Obtiene el vector de características para una película dada su título.\n",
    "    \"\"\"\n",
    "    movie_data = df[df['movie_title'].str.contains(title, case=False, na=False)]  # Filtrar por título\n",
    "\n",
    "    if not movie_data.empty:\n",
    "        return movie_data.drop(columns=['movie_title', 'imdb_score']).values[0]  # Devolver el vector\n",
    "    else:\n",
    "        print(f\"Película con el título que contiene '{title}' no encontrada.\")\n",
    "        return None\n",
    "\n",
    "# Función para recomendar películas basadas en la similitud con la red neuronal\n",
    "def recommend_movie_by_title_and_features_nn(query_title, df, top_n=5):\n",
    "    \"\"\"\n",
    "    Recomendación basada en la similitud con una película dada por su título y sus características.\n",
    "    \"\"\"\n",
    "    query_vector = get_movie_vector(query_title, df)\n",
    "\n",
    "    if query_vector is not None:\n",
    "        # Predicción de todas las películas\n",
    "        pred_df = predict_similarity_nn(df)\n",
    "\n",
    "        # Obtener el top_n de películas más similares\n",
    "        top_similar_movies_by_features = pred_df.head(top_n + 1)  # Top n+1 porque incluye la película de consulta\n",
    "        top_similar_movies_by_features = top_similar_movies_by_features.iloc[1:]  # Excluir la propia película\n",
    "\n",
    "        return top_similar_movies_by_features\n",
    "    else:\n",
    "        return None\n",
    "\n",
    "# Función principal para combinar las recomendaciones con la red neuronal\n",
    "def recommend_movies_with_nn(query, df, top_n=5):\n",
    "    \"\"\"\n",
    "    Recomienda películas basadas en el título y sus características utilizando redes neuronales.\n",
    "    \"\"\"\n",
    "    preprocessed_query = preprocess_input(query)\n",
    "\n",
    "    # Recomendaciones basadas en el título\n",
    "    print(f\"\\nRecomendaciones basadas en el título '{preprocessed_query}':\")\n",
    "    similar_by_title = df[df['movie_title'].str.contains(preprocessed_query, case=False, na=False)]\n",
    "    if not similar_by_title.empty:\n",
    "        print(similar_by_title[['movie_title', 'gross', 'imdb_score']])\n",
    "    else:\n",
    "        print(f\"No se encontraron películas con el título '{preprocessed_query}'.\")\n",
    "\n",
    "    # Recomendaciones basadas en las características utilizando la red neuronal\n",
    "    print(f\"\\nRecomendaciones basadas en las características de la película '{preprocessed_query}':\")\n",
    "    top_similar_movies_by_features = recommend_movie_by_title_and_features_nn(preprocessed_query, df, top_n=top_n)\n",
    "    if top_similar_movies_by_features is not None:\n",
    "        print(top_similar_movies_by_features)\n",
    "    else:\n",
    "        print(f\"No se pudo obtener recomendaciones basadas en las características para '{preprocessed_query}'.\")\n"
   ]
  },
  {
   "cell_type": "markdown",
   "id": "5efb9d37",
   "metadata": {},
   "source": [
    "Ejemplo de consulta"
   ]
  },
  {
   "cell_type": "markdown",
   "id": "ba4e858c",
   "metadata": {},
   "source": [
    "Predicicones para todas las películas"
   ]
  },
  {
   "cell_type": "code",
   "execution_count": 83,
   "id": "58008fa0",
   "metadata": {},
   "outputs": [
    {
     "name": "stdout",
     "output_type": "stream",
     "text": [
      "\u001b[1m122/122\u001b[0m \u001b[32m━━━━━━━━━━━━━━━━━━━━\u001b[0m\u001b[37m\u001b[0m \u001b[1m0s\u001b[0m 447us/step\n",
      "                                        predicted_imdb_score\n",
      "movie_title                                                 \n",
      "Fateless                                           10.000000\n",
      "The Host                                           10.000000\n",
      "Princess Mononoke                                  10.000000\n",
      "Steamboy                                           10.000000\n",
      "Interstellar                                       10.000000\n",
      "Lady Vengeance                                     10.000000\n",
      "Anchorman: The Legend of Ron Burgundy              10.000000\n",
      "The Shawshank Redemption                            9.709708\n",
      "Fight Club                                          9.650713\n",
      "The Godfather: Part II                              9.435218\n"
     ]
    }
   ],
   "source": [
    "predicted_scores = predict_similarity_nn(relevant_data)\n",
    "print(predicted_scores.head(10))  # Muestra las 10 películas con mayor predicción"
   ]
  },
  {
   "cell_type": "code",
   "execution_count": 84,
   "id": "3abe54d1",
   "metadata": {},
   "outputs": [
    {
     "name": "stdout",
     "output_type": "stream",
     "text": [
      "[ 2.38271967  5.23783676  7.02143933  1.26163786  4.68444793 11.91669158\n",
      "  5.03961912  6.90443474  5.68268119  0.91930074  7.26005222  1.\n",
      "  0.          0.          0.          0.          0.          0.\n",
      "  0.          0.          0.          0.          0.          0.\n",
      "  0.          0.          0.          0.          0.          0.\n",
      "  0.          1.          0.          0.        ]\n"
     ]
    }
   ],
   "source": [
    "movie_vector = get_movie_vector(\"The Dark Knight\", relevant_data)\n",
    "\n",
    "print(movie_vector)  # Vector de características de la película"
   ]
  },
  {
   "cell_type": "markdown",
   "id": "5c236f11",
   "metadata": {},
   "source": [
    "recomendar películas similares a una consulta específica (título)"
   ]
  },
  {
   "cell_type": "code",
   "execution_count": 85,
   "id": "7af4c092",
   "metadata": {},
   "outputs": [
    {
     "name": "stdout",
     "output_type": "stream",
     "text": [
      "\u001b[1m122/122\u001b[0m \u001b[32m━━━━━━━━━━━━━━━━━━━━\u001b[0m\u001b[37m\u001b[0m \u001b[1m0s\u001b[0m 1ms/step  \n",
      "                    predicted_imdb_score\n",
      "movie_title                             \n",
      "The Host                            10.0\n",
      "Princess Mononoke                   10.0\n",
      "Steamboy                            10.0\n",
      "Interstellar                        10.0\n",
      "Lady Vengeance                      10.0\n"
     ]
    }
   ],
   "source": [
    "recommendations = recommend_movie_by_title_and_features_nn(\"Inception\", relevant_data, top_n=5)\n",
    "\n",
    "print(recommendations)  # Muestra las 5 películas más similares a \"Inception\"\n"
   ]
  },
  {
   "cell_type": "code",
   "execution_count": 86,
   "id": "8d770b1c",
   "metadata": {},
   "outputs": [
    {
     "ename": "NameError",
     "evalue": "name 'preprocess_input' is not defined",
     "output_type": "error",
     "traceback": [
      "\u001b[1;31m---------------------------------------------------------------------------\u001b[0m",
      "\u001b[1;31mNameError\u001b[0m                                 Traceback (most recent call last)",
      "Cell \u001b[1;32mIn[86], line 1\u001b[0m\n\u001b[1;32m----> 1\u001b[0m recommend_movies_with_nn(\u001b[38;5;124m\"\u001b[39m\u001b[38;5;124mAvatar\u001b[39m\u001b[38;5;124m\"\u001b[39m, relevant_data, top_n\u001b[38;5;241m=\u001b[39m\u001b[38;5;241m5\u001b[39m)\n",
      "Cell \u001b[1;32mIn[82], line 68\u001b[0m, in \u001b[0;36mrecommend_movies_with_nn\u001b[1;34m(query, df, top_n)\u001b[0m\n\u001b[0;32m     64\u001b[0m \u001b[38;5;28;01mdef\u001b[39;00m \u001b[38;5;21mrecommend_movies_with_nn\u001b[39m(query, df, top_n\u001b[38;5;241m=\u001b[39m\u001b[38;5;241m5\u001b[39m):\n\u001b[0;32m     65\u001b[0m \u001b[38;5;250m    \u001b[39m\u001b[38;5;124;03m\"\"\"\u001b[39;00m\n\u001b[0;32m     66\u001b[0m \u001b[38;5;124;03m    Recomienda películas basadas en el título y sus características utilizando redes neuronales.\u001b[39;00m\n\u001b[0;32m     67\u001b[0m \u001b[38;5;124;03m    \"\"\"\u001b[39;00m\n\u001b[1;32m---> 68\u001b[0m     preprocessed_query \u001b[38;5;241m=\u001b[39m preprocess_input(query)\n\u001b[0;32m     70\u001b[0m     \u001b[38;5;66;03m# Recomendaciones basadas en el título\u001b[39;00m\n\u001b[0;32m     71\u001b[0m     \u001b[38;5;28mprint\u001b[39m(\u001b[38;5;124mf\u001b[39m\u001b[38;5;124m\"\u001b[39m\u001b[38;5;130;01m\\n\u001b[39;00m\u001b[38;5;124mRecomendaciones basadas en el título \u001b[39m\u001b[38;5;124m'\u001b[39m\u001b[38;5;132;01m{\u001b[39;00mpreprocessed_query\u001b[38;5;132;01m}\u001b[39;00m\u001b[38;5;124m'\u001b[39m\u001b[38;5;124m:\u001b[39m\u001b[38;5;124m\"\u001b[39m)\n",
      "\u001b[1;31mNameError\u001b[0m: name 'preprocess_input' is not defined"
     ]
    }
   ],
   "source": [
    "recommend_movies_with_nn(\"Avatar\", relevant_data, top_n=5)"
   ]
  },
  {
   "cell_type": "code",
   "execution_count": 89,
   "id": "cd149d48",
   "metadata": {},
   "outputs": [
    {
     "name": "stderr",
     "output_type": "stream",
     "text": [
      "[I 2024-12-07 17:46:06,554] A new study created in memory with name: no-name-00ec9fce-7809-4e88-8733-208773d7b338\n",
      "c:\\Users\\carlo\\.conda\\envs\\ds_env\\Lib\\site-packages\\keras\\src\\layers\\core\\dense.py:87: UserWarning: Do not pass an `input_shape`/`input_dim` argument to a layer. When using Sequential models, prefer using an `Input(shape)` object as the first layer in the model instead.\n",
      "  super().__init__(activity_regularizer=activity_regularizer, **kwargs)\n"
     ]
    },
    {
     "name": "stdout",
     "output_type": "stream",
     "text": [
      "\u001b[1m25/25\u001b[0m \u001b[32m━━━━━━━━━━━━━━━━━━━━\u001b[0m\u001b[37m\u001b[0m \u001b[1m0s\u001b[0m 1ms/step \n"
     ]
    },
    {
     "name": "stderr",
     "output_type": "stream",
     "text": [
      "[I 2024-12-07 17:46:09,641] Trial 0 finished with value: 0.6424091525544912 and parameters: {'num_layers': 3, 'num_neurons': 160, 'dropout_rate': 0.4884992577420981, 'learning_rate': 0.0007728355028317316, 'batch_size': 32}. Best is trial 0 with value: 0.6424091525544912.\n",
      "c:\\Users\\carlo\\.conda\\envs\\ds_env\\Lib\\site-packages\\keras\\src\\layers\\core\\dense.py:87: UserWarning: Do not pass an `input_shape`/`input_dim` argument to a layer. When using Sequential models, prefer using an `Input(shape)` object as the first layer in the model instead.\n",
      "  super().__init__(activity_regularizer=activity_regularizer, **kwargs)\n"
     ]
    },
    {
     "name": "stdout",
     "output_type": "stream",
     "text": [
      "\u001b[1m25/25\u001b[0m \u001b[32m━━━━━━━━━━━━━━━━━━━━\u001b[0m\u001b[37m\u001b[0m \u001b[1m0s\u001b[0m 1ms/step \n"
     ]
    },
    {
     "name": "stderr",
     "output_type": "stream",
     "text": [
      "[I 2024-12-07 17:46:11,753] Trial 1 finished with value: 0.6203755869857576 and parameters: {'num_layers': 3, 'num_neurons': 192, 'dropout_rate': 0.20427604954626327, 'learning_rate': 0.0002660041111291489, 'batch_size': 128}. Best is trial 1 with value: 0.6203755869857576.\n",
      "c:\\Users\\carlo\\.conda\\envs\\ds_env\\Lib\\site-packages\\keras\\src\\layers\\core\\dense.py:87: UserWarning: Do not pass an `input_shape`/`input_dim` argument to a layer. When using Sequential models, prefer using an `Input(shape)` object as the first layer in the model instead.\n",
      "  super().__init__(activity_regularizer=activity_regularizer, **kwargs)\n"
     ]
    },
    {
     "name": "stdout",
     "output_type": "stream",
     "text": [
      "\u001b[1m25/25\u001b[0m \u001b[32m━━━━━━━━━━━━━━━━━━━━\u001b[0m\u001b[37m\u001b[0m \u001b[1m0s\u001b[0m 924us/step\n"
     ]
    },
    {
     "name": "stderr",
     "output_type": "stream",
     "text": [
      "[I 2024-12-07 17:46:13,429] Trial 2 finished with value: 11.61080943615026 and parameters: {'num_layers': 1, 'num_neurons': 32, 'dropout_rate': 0.3871311683881227, 'learning_rate': 0.00010715799471954602, 'batch_size': 64}. Best is trial 1 with value: 0.6203755869857576.\n",
      "c:\\Users\\carlo\\.conda\\envs\\ds_env\\Lib\\site-packages\\keras\\src\\layers\\core\\dense.py:87: UserWarning: Do not pass an `input_shape`/`input_dim` argument to a layer. When using Sequential models, prefer using an `Input(shape)` object as the first layer in the model instead.\n",
      "  super().__init__(activity_regularizer=activity_regularizer, **kwargs)\n"
     ]
    },
    {
     "name": "stdout",
     "output_type": "stream",
     "text": [
      "\u001b[1m25/25\u001b[0m \u001b[32m━━━━━━━━━━━━━━━━━━━━\u001b[0m\u001b[37m\u001b[0m \u001b[1m0s\u001b[0m 848us/step\n"
     ]
    },
    {
     "name": "stderr",
     "output_type": "stream",
     "text": [
      "[I 2024-12-07 17:46:16,626] Trial 3 finished with value: 0.6351552747009744 and parameters: {'num_layers': 1, 'num_neurons': 192, 'dropout_rate': 0.3903056770697182, 'learning_rate': 0.00033877763100049086, 'batch_size': 16}. Best is trial 1 with value: 0.6203755869857576.\n",
      "c:\\Users\\carlo\\.conda\\envs\\ds_env\\Lib\\site-packages\\keras\\src\\layers\\core\\dense.py:87: UserWarning: Do not pass an `input_shape`/`input_dim` argument to a layer. When using Sequential models, prefer using an `Input(shape)` object as the first layer in the model instead.\n",
      "  super().__init__(activity_regularizer=activity_regularizer, **kwargs)\n"
     ]
    },
    {
     "name": "stdout",
     "output_type": "stream",
     "text": [
      "\u001b[1m25/25\u001b[0m \u001b[32m━━━━━━━━━━━━━━━━━━━━\u001b[0m\u001b[37m\u001b[0m \u001b[1m0s\u001b[0m 1ms/step \n"
     ]
    },
    {
     "name": "stderr",
     "output_type": "stream",
     "text": [
      "[I 2024-12-07 17:46:18,334] Trial 4 finished with value: 0.7201503061467006 and parameters: {'num_layers': 2, 'num_neurons': 160, 'dropout_rate': 0.2988336891153004, 'learning_rate': 0.006254076922979904, 'batch_size': 128}. Best is trial 1 with value: 0.6203755869857576.\n",
      "c:\\Users\\carlo\\.conda\\envs\\ds_env\\Lib\\site-packages\\keras\\src\\layers\\core\\dense.py:87: UserWarning: Do not pass an `input_shape`/`input_dim` argument to a layer. When using Sequential models, prefer using an `Input(shape)` object as the first layer in the model instead.\n",
      "  super().__init__(activity_regularizer=activity_regularizer, **kwargs)\n"
     ]
    },
    {
     "name": "stdout",
     "output_type": "stream",
     "text": [
      "\u001b[1m25/25\u001b[0m \u001b[32m━━━━━━━━━━━━━━━━━━━━\u001b[0m\u001b[37m\u001b[0m \u001b[1m0s\u001b[0m 1ms/step \n"
     ]
    },
    {
     "name": "stderr",
     "output_type": "stream",
     "text": [
      "[I 2024-12-07 17:46:21,037] Trial 5 finished with value: 0.5715495565819647 and parameters: {'num_layers': 3, 'num_neurons': 32, 'dropout_rate': 0.4427320272890629, 'learning_rate': 0.0034585315529410327, 'batch_size': 32}. Best is trial 5 with value: 0.5715495565819647.\n",
      "c:\\Users\\carlo\\.conda\\envs\\ds_env\\Lib\\site-packages\\keras\\src\\layers\\core\\dense.py:87: UserWarning: Do not pass an `input_shape`/`input_dim` argument to a layer. When using Sequential models, prefer using an `Input(shape)` object as the first layer in the model instead.\n",
      "  super().__init__(activity_regularizer=activity_regularizer, **kwargs)\n"
     ]
    },
    {
     "name": "stdout",
     "output_type": "stream",
     "text": [
      "\u001b[1m25/25\u001b[0m \u001b[32m━━━━━━━━━━━━━━━━━━━━\u001b[0m\u001b[37m\u001b[0m \u001b[1m0s\u001b[0m 961us/step\n"
     ]
    },
    {
     "name": "stderr",
     "output_type": "stream",
     "text": [
      "[I 2024-12-07 17:46:23,286] Trial 6 finished with value: 21.394376559892933 and parameters: {'num_layers': 1, 'num_neurons': 128, 'dropout_rate': 0.28609290313209346, 'learning_rate': 1.9072461762328854e-05, 'batch_size': 32}. Best is trial 5 with value: 0.5715495565819647.\n",
      "c:\\Users\\carlo\\.conda\\envs\\ds_env\\Lib\\site-packages\\keras\\src\\layers\\core\\dense.py:87: UserWarning: Do not pass an `input_shape`/`input_dim` argument to a layer. When using Sequential models, prefer using an `Input(shape)` object as the first layer in the model instead.\n",
      "  super().__init__(activity_regularizer=activity_regularizer, **kwargs)\n"
     ]
    },
    {
     "name": "stdout",
     "output_type": "stream",
     "text": [
      "\u001b[1m25/25\u001b[0m \u001b[32m━━━━━━━━━━━━━━━━━━━━\u001b[0m\u001b[37m\u001b[0m \u001b[1m0s\u001b[0m 933us/step\n"
     ]
    },
    {
     "name": "stderr",
     "output_type": "stream",
     "text": [
      "[I 2024-12-07 17:46:24,769] Trial 7 finished with value: 13.680827690296887 and parameters: {'num_layers': 1, 'num_neurons': 256, 'dropout_rate': 0.30968678061806476, 'learning_rate': 7.417295657457639e-05, 'batch_size': 128}. Best is trial 5 with value: 0.5715495565819647.\n",
      "c:\\Users\\carlo\\.conda\\envs\\ds_env\\Lib\\site-packages\\keras\\src\\layers\\core\\dense.py:87: UserWarning: Do not pass an `input_shape`/`input_dim` argument to a layer. When using Sequential models, prefer using an `Input(shape)` object as the first layer in the model instead.\n",
      "  super().__init__(activity_regularizer=activity_regularizer, **kwargs)\n"
     ]
    },
    {
     "name": "stdout",
     "output_type": "stream",
     "text": [
      "\u001b[1m25/25\u001b[0m \u001b[32m━━━━━━━━━━━━━━━━━━━━\u001b[0m\u001b[37m\u001b[0m \u001b[1m0s\u001b[0m 1ms/step \n"
     ]
    },
    {
     "name": "stderr",
     "output_type": "stream",
     "text": [
      "[I 2024-12-07 17:46:27,366] Trial 8 finished with value: 0.6014208129326309 and parameters: {'num_layers': 2, 'num_neurons': 128, 'dropout_rate': 0.1975215115063217, 'learning_rate': 0.0002384881629935656, 'batch_size': 32}. Best is trial 5 with value: 0.5715495565819647.\n",
      "c:\\Users\\carlo\\.conda\\envs\\ds_env\\Lib\\site-packages\\keras\\src\\layers\\core\\dense.py:87: UserWarning: Do not pass an `input_shape`/`input_dim` argument to a layer. When using Sequential models, prefer using an `Input(shape)` object as the first layer in the model instead.\n",
      "  super().__init__(activity_regularizer=activity_regularizer, **kwargs)\n"
     ]
    },
    {
     "name": "stdout",
     "output_type": "stream",
     "text": [
      "\u001b[1m25/25\u001b[0m \u001b[32m━━━━━━━━━━━━━━━━━━━━\u001b[0m\u001b[37m\u001b[0m \u001b[1m0s\u001b[0m 1ms/step \n"
     ]
    },
    {
     "name": "stderr",
     "output_type": "stream",
     "text": [
      "[I 2024-12-07 17:46:30,975] Trial 9 finished with value: 0.6924474303657645 and parameters: {'num_layers': 2, 'num_neurons': 32, 'dropout_rate': 0.17329010745458756, 'learning_rate': 0.0013158886714900817, 'batch_size': 16}. Best is trial 5 with value: 0.5715495565819647.\n",
      "c:\\Users\\carlo\\.conda\\envs\\ds_env\\Lib\\site-packages\\keras\\src\\layers\\core\\dense.py:87: UserWarning: Do not pass an `input_shape`/`input_dim` argument to a layer. When using Sequential models, prefer using an `Input(shape)` object as the first layer in the model instead.\n",
      "  super().__init__(activity_regularizer=activity_regularizer, **kwargs)\n"
     ]
    },
    {
     "name": "stdout",
     "output_type": "stream",
     "text": [
      "\u001b[1m25/25\u001b[0m \u001b[32m━━━━━━━━━━━━━━━━━━━━\u001b[0m\u001b[37m\u001b[0m \u001b[1m0s\u001b[0m 1ms/step \n"
     ]
    },
    {
     "name": "stderr",
     "output_type": "stream",
     "text": [
      "[I 2024-12-07 17:46:33,430] Trial 10 finished with value: 0.7044408091193292 and parameters: {'num_layers': 3, 'num_neurons': 64, 'dropout_rate': 0.021537978216622733, 'learning_rate': 0.008240535549933871, 'batch_size': 64}. Best is trial 5 with value: 0.5715495565819647.\n",
      "c:\\Users\\carlo\\.conda\\envs\\ds_env\\Lib\\site-packages\\keras\\src\\layers\\core\\dense.py:87: UserWarning: Do not pass an `input_shape`/`input_dim` argument to a layer. When using Sequential models, prefer using an `Input(shape)` object as the first layer in the model instead.\n",
      "  super().__init__(activity_regularizer=activity_regularizer, **kwargs)\n"
     ]
    },
    {
     "name": "stdout",
     "output_type": "stream",
     "text": [
      "\u001b[1m25/25\u001b[0m \u001b[32m━━━━━━━━━━━━━━━━━━━━\u001b[0m\u001b[37m\u001b[0m \u001b[1m0s\u001b[0m 1ms/step \n"
     ]
    },
    {
     "name": "stderr",
     "output_type": "stream",
     "text": [
      "[I 2024-12-07 17:46:35,988] Trial 11 finished with value: 0.7231614083910781 and parameters: {'num_layers': 2, 'num_neurons': 96, 'dropout_rate': 0.08141256536805186, 'learning_rate': 0.001876833045313437, 'batch_size': 32}. Best is trial 5 with value: 0.5715495565819647.\n",
      "c:\\Users\\carlo\\.conda\\envs\\ds_env\\Lib\\site-packages\\keras\\src\\layers\\core\\dense.py:87: UserWarning: Do not pass an `input_shape`/`input_dim` argument to a layer. When using Sequential models, prefer using an `Input(shape)` object as the first layer in the model instead.\n",
      "  super().__init__(activity_regularizer=activity_regularizer, **kwargs)\n"
     ]
    },
    {
     "name": "stdout",
     "output_type": "stream",
     "text": [
      "\u001b[1m25/25\u001b[0m \u001b[32m━━━━━━━━━━━━━━━━━━━━\u001b[0m\u001b[37m\u001b[0m \u001b[1m0s\u001b[0m 2ms/step \n"
     ]
    },
    {
     "name": "stderr",
     "output_type": "stream",
     "text": [
      "[I 2024-12-07 17:46:38,806] Trial 12 finished with value: 0.6143506982737945 and parameters: {'num_layers': 3, 'num_neurons': 96, 'dropout_rate': 0.1382953370924034, 'learning_rate': 0.003223651574820199, 'batch_size': 32}. Best is trial 5 with value: 0.5715495565819647.\n",
      "c:\\Users\\carlo\\.conda\\envs\\ds_env\\Lib\\site-packages\\keras\\src\\layers\\core\\dense.py:87: UserWarning: Do not pass an `input_shape`/`input_dim` argument to a layer. When using Sequential models, prefer using an `Input(shape)` object as the first layer in the model instead.\n",
      "  super().__init__(activity_regularizer=activity_regularizer, **kwargs)\n"
     ]
    },
    {
     "name": "stdout",
     "output_type": "stream",
     "text": [
      "\u001b[1m25/25\u001b[0m \u001b[32m━━━━━━━━━━━━━━━━━━━━\u001b[0m\u001b[37m\u001b[0m \u001b[1m0s\u001b[0m 1ms/step \n"
     ]
    },
    {
     "name": "stderr",
     "output_type": "stream",
     "text": [
      "[I 2024-12-07 17:46:41,676] Trial 13 finished with value: 0.6373562057683211 and parameters: {'num_layers': 2, 'num_neurons': 256, 'dropout_rate': 0.49313903308414586, 'learning_rate': 0.00044952847691878667, 'batch_size': 32}. Best is trial 5 with value: 0.5715495565819647.\n",
      "c:\\Users\\carlo\\.conda\\envs\\ds_env\\Lib\\site-packages\\keras\\src\\layers\\core\\dense.py:87: UserWarning: Do not pass an `input_shape`/`input_dim` argument to a layer. When using Sequential models, prefer using an `Input(shape)` object as the first layer in the model instead.\n",
      "  super().__init__(activity_regularizer=activity_regularizer, **kwargs)\n"
     ]
    },
    {
     "name": "stdout",
     "output_type": "stream",
     "text": [
      "\u001b[1m25/25\u001b[0m \u001b[32m━━━━━━━━━━━━━━━━━━━━\u001b[0m\u001b[37m\u001b[0m \u001b[1m0s\u001b[0m 1ms/step \n"
     ]
    },
    {
     "name": "stderr",
     "output_type": "stream",
     "text": [
      "[I 2024-12-07 17:46:44,192] Trial 14 finished with value: 0.7050197496796471 and parameters: {'num_layers': 2, 'num_neurons': 96, 'dropout_rate': 0.38103305382835156, 'learning_rate': 0.0001253491622151427, 'batch_size': 32}. Best is trial 5 with value: 0.5715495565819647.\n",
      "c:\\Users\\carlo\\.conda\\envs\\ds_env\\Lib\\site-packages\\keras\\src\\layers\\core\\dense.py:87: UserWarning: Do not pass an `input_shape`/`input_dim` argument to a layer. When using Sequential models, prefer using an `Input(shape)` object as the first layer in the model instead.\n",
      "  super().__init__(activity_regularizer=activity_regularizer, **kwargs)\n"
     ]
    },
    {
     "name": "stdout",
     "output_type": "stream",
     "text": [
      "\u001b[1m25/25\u001b[0m \u001b[32m━━━━━━━━━━━━━━━━━━━━\u001b[0m\u001b[37m\u001b[0m \u001b[1m0s\u001b[0m 1ms/step \n"
     ]
    },
    {
     "name": "stderr",
     "output_type": "stream",
     "text": [
      "[I 2024-12-07 17:46:46,940] Trial 15 finished with value: 5.751988181484934 and parameters: {'num_layers': 3, 'num_neurons': 64, 'dropout_rate': 0.23949932804965207, 'learning_rate': 1.5059230515160382e-05, 'batch_size': 32}. Best is trial 5 with value: 0.5715495565819647.\n",
      "c:\\Users\\carlo\\.conda\\envs\\ds_env\\Lib\\site-packages\\keras\\src\\layers\\core\\dense.py:87: UserWarning: Do not pass an `input_shape`/`input_dim` argument to a layer. When using Sequential models, prefer using an `Input(shape)` object as the first layer in the model instead.\n",
      "  super().__init__(activity_regularizer=activity_regularizer, **kwargs)\n"
     ]
    },
    {
     "name": "stdout",
     "output_type": "stream",
     "text": [
      "\u001b[1m25/25\u001b[0m \u001b[32m━━━━━━━━━━━━━━━━━━━━\u001b[0m\u001b[37m\u001b[0m \u001b[1m0s\u001b[0m 1ms/step \n"
     ]
    },
    {
     "name": "stderr",
     "output_type": "stream",
     "text": [
      "[I 2024-12-07 17:46:49,679] Trial 16 finished with value: 1.152603047268164 and parameters: {'num_layers': 2, 'num_neurons': 224, 'dropout_rate': 0.12222837158083447, 'learning_rate': 3.5506561915010285e-05, 'batch_size': 32}. Best is trial 5 with value: 0.5715495565819647.\n",
      "c:\\Users\\carlo\\.conda\\envs\\ds_env\\Lib\\site-packages\\keras\\src\\layers\\core\\dense.py:87: UserWarning: Do not pass an `input_shape`/`input_dim` argument to a layer. When using Sequential models, prefer using an `Input(shape)` object as the first layer in the model instead.\n",
      "  super().__init__(activity_regularizer=activity_regularizer, **kwargs)\n"
     ]
    },
    {
     "name": "stdout",
     "output_type": "stream",
     "text": [
      "\u001b[1m25/25\u001b[0m \u001b[32m━━━━━━━━━━━━━━━━━━━━\u001b[0m\u001b[37m\u001b[0m \u001b[1m0s\u001b[0m 1ms/step \n"
     ]
    },
    {
     "name": "stderr",
     "output_type": "stream",
     "text": [
      "[I 2024-12-07 17:46:51,924] Trial 17 finished with value: 0.6258357142646668 and parameters: {'num_layers': 3, 'num_neurons': 128, 'dropout_rate': 0.4287868848548246, 'learning_rate': 0.0028344288571475417, 'batch_size': 64}. Best is trial 5 with value: 0.5715495565819647.\n",
      "c:\\Users\\carlo\\.conda\\envs\\ds_env\\Lib\\site-packages\\keras\\src\\layers\\core\\dense.py:87: UserWarning: Do not pass an `input_shape`/`input_dim` argument to a layer. When using Sequential models, prefer using an `Input(shape)` object as the first layer in the model instead.\n",
      "  super().__init__(activity_regularizer=activity_regularizer, **kwargs)\n"
     ]
    },
    {
     "name": "stdout",
     "output_type": "stream",
     "text": [
      "\u001b[1m25/25\u001b[0m \u001b[32m━━━━━━━━━━━━━━━━━━━━\u001b[0m\u001b[37m\u001b[0m \u001b[1m0s\u001b[0m 1ms/step \n"
     ]
    },
    {
     "name": "stderr",
     "output_type": "stream",
     "text": [
      "[I 2024-12-07 17:46:55,538] Trial 18 finished with value: 0.6949700802409686 and parameters: {'num_layers': 2, 'num_neurons': 64, 'dropout_rate': 0.23712170635843668, 'learning_rate': 0.0008352773402049662, 'batch_size': 16}. Best is trial 5 with value: 0.5715495565819647.\n",
      "c:\\Users\\carlo\\.conda\\envs\\ds_env\\Lib\\site-packages\\keras\\src\\layers\\core\\dense.py:87: UserWarning: Do not pass an `input_shape`/`input_dim` argument to a layer. When using Sequential models, prefer using an `Input(shape)` object as the first layer in the model instead.\n",
      "  super().__init__(activity_regularizer=activity_regularizer, **kwargs)\n"
     ]
    },
    {
     "name": "stdout",
     "output_type": "stream",
     "text": [
      "\u001b[1m25/25\u001b[0m \u001b[32m━━━━━━━━━━━━━━━━━━━━\u001b[0m\u001b[37m\u001b[0m \u001b[1m0s\u001b[0m 1ms/step \n"
     ]
    },
    {
     "name": "stderr",
     "output_type": "stream",
     "text": [
      "[I 2024-12-07 17:46:58,270] Trial 19 finished with value: 1.0465601793719737 and parameters: {'num_layers': 3, 'num_neurons': 32, 'dropout_rate': 0.32823688125706124, 'learning_rate': 0.00016992923202423357, 'batch_size': 32}. Best is trial 5 with value: 0.5715495565819647.\n",
      "c:\\Users\\carlo\\.conda\\envs\\ds_env\\Lib\\site-packages\\keras\\src\\layers\\core\\dense.py:87: UserWarning: Do not pass an `input_shape`/`input_dim` argument to a layer. When using Sequential models, prefer using an `Input(shape)` object as the first layer in the model instead.\n",
      "  super().__init__(activity_regularizer=activity_regularizer, **kwargs)\n"
     ]
    },
    {
     "name": "stdout",
     "output_type": "stream",
     "text": [
      "\u001b[1m25/25\u001b[0m \u001b[32m━━━━━━━━━━━━━━━━━━━━\u001b[0m\u001b[37m\u001b[0m \u001b[1m0s\u001b[0m 1ms/step \n"
     ]
    },
    {
     "name": "stderr",
     "output_type": "stream",
     "text": [
      "[I 2024-12-07 17:47:00,850] Trial 20 finished with value: 1.1381820104234783 and parameters: {'num_layers': 2, 'num_neurons': 128, 'dropout_rate': 0.05201924027208488, 'learning_rate': 5.205860008853003e-05, 'batch_size': 32}. Best is trial 5 with value: 0.5715495565819647.\n",
      "c:\\Users\\carlo\\.conda\\envs\\ds_env\\Lib\\site-packages\\keras\\src\\layers\\core\\dense.py:87: UserWarning: Do not pass an `input_shape`/`input_dim` argument to a layer. When using Sequential models, prefer using an `Input(shape)` object as the first layer in the model instead.\n",
      "  super().__init__(activity_regularizer=activity_regularizer, **kwargs)\n"
     ]
    },
    {
     "name": "stdout",
     "output_type": "stream",
     "text": [
      "\u001b[1m25/25\u001b[0m \u001b[32m━━━━━━━━━━━━━━━━━━━━\u001b[0m\u001b[37m\u001b[0m \u001b[1m0s\u001b[0m 1ms/step \n"
     ]
    },
    {
     "name": "stderr",
     "output_type": "stream",
     "text": [
      "[I 2024-12-07 17:47:04,012] Trial 21 finished with value: 0.5904403870779181 and parameters: {'num_layers': 3, 'num_neurons': 96, 'dropout_rate': 0.14151465335070734, 'learning_rate': 0.003568812226436851, 'batch_size': 32}. Best is trial 5 with value: 0.5715495565819647.\n",
      "c:\\Users\\carlo\\.conda\\envs\\ds_env\\Lib\\site-packages\\keras\\src\\layers\\core\\dense.py:87: UserWarning: Do not pass an `input_shape`/`input_dim` argument to a layer. When using Sequential models, prefer using an `Input(shape)` object as the first layer in the model instead.\n",
      "  super().__init__(activity_regularizer=activity_regularizer, **kwargs)\n"
     ]
    },
    {
     "name": "stdout",
     "output_type": "stream",
     "text": [
      "\u001b[1m25/25\u001b[0m \u001b[32m━━━━━━━━━━━━━━━━━━━━\u001b[0m\u001b[37m\u001b[0m \u001b[1m0s\u001b[0m 1ms/step \n"
     ]
    },
    {
     "name": "stderr",
     "output_type": "stream",
     "text": [
      "[I 2024-12-07 17:47:06,832] Trial 22 finished with value: 0.5620410610587588 and parameters: {'num_layers': 3, 'num_neurons': 96, 'dropout_rate': 0.18150521307427345, 'learning_rate': 0.0033360949330910362, 'batch_size': 32}. Best is trial 22 with value: 0.5620410610587588.\n",
      "c:\\Users\\carlo\\.conda\\envs\\ds_env\\Lib\\site-packages\\keras\\src\\layers\\core\\dense.py:87: UserWarning: Do not pass an `input_shape`/`input_dim` argument to a layer. When using Sequential models, prefer using an `Input(shape)` object as the first layer in the model instead.\n",
      "  super().__init__(activity_regularizer=activity_regularizer, **kwargs)\n"
     ]
    },
    {
     "name": "stdout",
     "output_type": "stream",
     "text": [
      "\u001b[1m25/25\u001b[0m \u001b[32m━━━━━━━━━━━━━━━━━━━━\u001b[0m\u001b[37m\u001b[0m \u001b[1m0s\u001b[0m 1ms/step \n"
     ]
    },
    {
     "name": "stderr",
     "output_type": "stream",
     "text": [
      "[I 2024-12-07 17:47:09,651] Trial 23 finished with value: 0.5971777381221639 and parameters: {'num_layers': 3, 'num_neurons': 64, 'dropout_rate': 0.11940112190287233, 'learning_rate': 0.0050778126371058205, 'batch_size': 32}. Best is trial 22 with value: 0.5620410610587588.\n",
      "c:\\Users\\carlo\\.conda\\envs\\ds_env\\Lib\\site-packages\\keras\\src\\layers\\core\\dense.py:87: UserWarning: Do not pass an `input_shape`/`input_dim` argument to a layer. When using Sequential models, prefer using an `Input(shape)` object as the first layer in the model instead.\n",
      "  super().__init__(activity_regularizer=activity_regularizer, **kwargs)\n"
     ]
    },
    {
     "name": "stdout",
     "output_type": "stream",
     "text": [
      "\u001b[1m25/25\u001b[0m \u001b[32m━━━━━━━━━━━━━━━━━━━━\u001b[0m\u001b[37m\u001b[0m \u001b[1m0s\u001b[0m 1ms/step \n"
     ]
    },
    {
     "name": "stderr",
     "output_type": "stream",
     "text": [
      "[I 2024-12-07 17:47:12,474] Trial 24 finished with value: 0.5606583916623036 and parameters: {'num_layers': 3, 'num_neurons': 96, 'dropout_rate': 0.15946020471329003, 'learning_rate': 0.0033439479562885066, 'batch_size': 32}. Best is trial 24 with value: 0.5606583916623036.\n",
      "c:\\Users\\carlo\\.conda\\envs\\ds_env\\Lib\\site-packages\\keras\\src\\layers\\core\\dense.py:87: UserWarning: Do not pass an `input_shape`/`input_dim` argument to a layer. When using Sequential models, prefer using an `Input(shape)` object as the first layer in the model instead.\n",
      "  super().__init__(activity_regularizer=activity_regularizer, **kwargs)\n"
     ]
    },
    {
     "name": "stdout",
     "output_type": "stream",
     "text": [
      "\u001b[1m25/25\u001b[0m \u001b[32m━━━━━━━━━━━━━━━━━━━━\u001b[0m\u001b[37m\u001b[0m \u001b[1m0s\u001b[0m 1ms/step \n"
     ]
    },
    {
     "name": "stderr",
     "output_type": "stream",
     "text": [
      "[I 2024-12-07 17:47:15,233] Trial 25 finished with value: 0.6098744497035173 and parameters: {'num_layers': 3, 'num_neurons': 64, 'dropout_rate': 0.08176354013738227, 'learning_rate': 0.009384128498713243, 'batch_size': 32}. Best is trial 24 with value: 0.5606583916623036.\n",
      "c:\\Users\\carlo\\.conda\\envs\\ds_env\\Lib\\site-packages\\keras\\src\\layers\\core\\dense.py:87: UserWarning: Do not pass an `input_shape`/`input_dim` argument to a layer. When using Sequential models, prefer using an `Input(shape)` object as the first layer in the model instead.\n",
      "  super().__init__(activity_regularizer=activity_regularizer, **kwargs)\n"
     ]
    },
    {
     "name": "stdout",
     "output_type": "stream",
     "text": [
      "\u001b[1m25/25\u001b[0m \u001b[32m━━━━━━━━━━━━━━━━━━━━\u001b[0m\u001b[37m\u001b[0m \u001b[1m0s\u001b[0m 1ms/step \n"
     ]
    },
    {
     "name": "stderr",
     "output_type": "stream",
     "text": [
      "[I 2024-12-07 17:47:17,371] Trial 26 finished with value: 0.6651717603282129 and parameters: {'num_layers': 3, 'num_neurons': 32, 'dropout_rate': 0.1862108701814574, 'learning_rate': 0.0012395557341222663, 'batch_size': 64}. Best is trial 24 with value: 0.5606583916623036.\n",
      "c:\\Users\\carlo\\.conda\\envs\\ds_env\\Lib\\site-packages\\keras\\src\\layers\\core\\dense.py:87: UserWarning: Do not pass an `input_shape`/`input_dim` argument to a layer. When using Sequential models, prefer using an `Input(shape)` object as the first layer in the model instead.\n",
      "  super().__init__(activity_regularizer=activity_regularizer, **kwargs)\n"
     ]
    },
    {
     "name": "stdout",
     "output_type": "stream",
     "text": [
      "\u001b[1m25/25\u001b[0m \u001b[32m━━━━━━━━━━━━━━━━━━━━\u001b[0m\u001b[37m\u001b[0m \u001b[1m0s\u001b[0m 2ms/step \n"
     ]
    },
    {
     "name": "stderr",
     "output_type": "stream",
     "text": [
      "[I 2024-12-07 17:47:21,382] Trial 27 finished with value: 0.5652715490379729 and parameters: {'num_layers': 3, 'num_neurons': 96, 'dropout_rate': 0.26143077979432255, 'learning_rate': 0.0018133312156703007, 'batch_size': 16}. Best is trial 24 with value: 0.5606583916623036.\n",
      "c:\\Users\\carlo\\.conda\\envs\\ds_env\\Lib\\site-packages\\keras\\src\\layers\\core\\dense.py:87: UserWarning: Do not pass an `input_shape`/`input_dim` argument to a layer. When using Sequential models, prefer using an `Input(shape)` object as the first layer in the model instead.\n",
      "  super().__init__(activity_regularizer=activity_regularizer, **kwargs)\n"
     ]
    },
    {
     "name": "stdout",
     "output_type": "stream",
     "text": [
      "\u001b[1m25/25\u001b[0m \u001b[32m━━━━━━━━━━━━━━━━━━━━\u001b[0m\u001b[37m\u001b[0m \u001b[1m0s\u001b[0m 1ms/step \n"
     ]
    },
    {
     "name": "stderr",
     "output_type": "stream",
     "text": [
      "[I 2024-12-07 17:47:25,441] Trial 28 finished with value: 0.5715097567515945 and parameters: {'num_layers': 3, 'num_neurons': 96, 'dropout_rate': 0.2566569723056213, 'learning_rate': 0.0019234104222041956, 'batch_size': 16}. Best is trial 24 with value: 0.5606583916623036.\n",
      "c:\\Users\\carlo\\.conda\\envs\\ds_env\\Lib\\site-packages\\keras\\src\\layers\\core\\dense.py:87: UserWarning: Do not pass an `input_shape`/`input_dim` argument to a layer. When using Sequential models, prefer using an `Input(shape)` object as the first layer in the model instead.\n",
      "  super().__init__(activity_regularizer=activity_regularizer, **kwargs)\n"
     ]
    },
    {
     "name": "stdout",
     "output_type": "stream",
     "text": [
      "\u001b[1m25/25\u001b[0m \u001b[32m━━━━━━━━━━━━━━━━━━━━\u001b[0m\u001b[37m\u001b[0m \u001b[1m0s\u001b[0m 1ms/step \n"
     ]
    },
    {
     "name": "stderr",
     "output_type": "stream",
     "text": [
      "[I 2024-12-07 17:47:29,664] Trial 29 finished with value: 0.6695544142804816 and parameters: {'num_layers': 3, 'num_neurons': 160, 'dropout_rate': 0.2649929424050395, 'learning_rate': 0.0005595142996277205, 'batch_size': 16}. Best is trial 24 with value: 0.5606583916623036.\n",
      "c:\\Users\\carlo\\.conda\\envs\\ds_env\\Lib\\site-packages\\keras\\src\\layers\\core\\dense.py:87: UserWarning: Do not pass an `input_shape`/`input_dim` argument to a layer. When using Sequential models, prefer using an `Input(shape)` object as the first layer in the model instead.\n",
      "  super().__init__(activity_regularizer=activity_regularizer, **kwargs)\n"
     ]
    },
    {
     "name": "stdout",
     "output_type": "stream",
     "text": [
      "\u001b[1m25/25\u001b[0m \u001b[32m━━━━━━━━━━━━━━━━━━━━\u001b[0m\u001b[37m\u001b[0m \u001b[1m0s\u001b[0m 2ms/step \n"
     ]
    },
    {
     "name": "stderr",
     "output_type": "stream",
     "text": [
      "[I 2024-12-07 17:47:33,761] Trial 30 finished with value: 0.6323428311817565 and parameters: {'num_layers': 3, 'num_neurons': 128, 'dropout_rate': 0.33513885533854615, 'learning_rate': 0.0011311957895803124, 'batch_size': 16}. Best is trial 24 with value: 0.5606583916623036.\n",
      "c:\\Users\\carlo\\.conda\\envs\\ds_env\\Lib\\site-packages\\keras\\src\\layers\\core\\dense.py:87: UserWarning: Do not pass an `input_shape`/`input_dim` argument to a layer. When using Sequential models, prefer using an `Input(shape)` object as the first layer in the model instead.\n",
      "  super().__init__(activity_regularizer=activity_regularizer, **kwargs)\n"
     ]
    },
    {
     "name": "stdout",
     "output_type": "stream",
     "text": [
      "\u001b[1m25/25\u001b[0m \u001b[32m━━━━━━━━━━━━━━━━━━━━\u001b[0m\u001b[37m\u001b[0m \u001b[1m0s\u001b[0m 1ms/step\n"
     ]
    },
    {
     "name": "stderr",
     "output_type": "stream",
     "text": [
      "[I 2024-12-07 17:47:37,810] Trial 31 finished with value: 0.5656673933207177 and parameters: {'num_layers': 3, 'num_neurons': 96, 'dropout_rate': 0.22969414717017497, 'learning_rate': 0.002055813918150813, 'batch_size': 16}. Best is trial 24 with value: 0.5606583916623036.\n",
      "c:\\Users\\carlo\\.conda\\envs\\ds_env\\Lib\\site-packages\\keras\\src\\layers\\core\\dense.py:87: UserWarning: Do not pass an `input_shape`/`input_dim` argument to a layer. When using Sequential models, prefer using an `Input(shape)` object as the first layer in the model instead.\n",
      "  super().__init__(activity_regularizer=activity_regularizer, **kwargs)\n"
     ]
    },
    {
     "name": "stdout",
     "output_type": "stream",
     "text": [
      "\u001b[1m25/25\u001b[0m \u001b[32m━━━━━━━━━━━━━━━━━━━━\u001b[0m\u001b[37m\u001b[0m \u001b[1m0s\u001b[0m 1ms/step \n"
     ]
    },
    {
     "name": "stderr",
     "output_type": "stream",
     "text": [
      "[I 2024-12-07 17:47:42,041] Trial 32 finished with value: 0.6073396933316035 and parameters: {'num_layers': 3, 'num_neurons': 96, 'dropout_rate': 0.2210675880249356, 'learning_rate': 0.0018689024821782697, 'batch_size': 16}. Best is trial 24 with value: 0.5606583916623036.\n",
      "c:\\Users\\carlo\\.conda\\envs\\ds_env\\Lib\\site-packages\\keras\\src\\layers\\core\\dense.py:87: UserWarning: Do not pass an `input_shape`/`input_dim` argument to a layer. When using Sequential models, prefer using an `Input(shape)` object as the first layer in the model instead.\n",
      "  super().__init__(activity_regularizer=activity_regularizer, **kwargs)\n"
     ]
    },
    {
     "name": "stdout",
     "output_type": "stream",
     "text": [
      "\u001b[1m25/25\u001b[0m \u001b[32m━━━━━━━━━━━━━━━━━━━━\u001b[0m\u001b[37m\u001b[0m \u001b[1m0s\u001b[0m 2ms/step \n"
     ]
    },
    {
     "name": "stderr",
     "output_type": "stream",
     "text": [
      "[I 2024-12-07 17:47:46,270] Trial 33 finished with value: 0.639036822937266 and parameters: {'num_layers': 3, 'num_neurons': 96, 'dropout_rate': 0.1524137771828113, 'learning_rate': 0.005741571217041706, 'batch_size': 16}. Best is trial 24 with value: 0.5606583916623036.\n",
      "c:\\Users\\carlo\\.conda\\envs\\ds_env\\Lib\\site-packages\\keras\\src\\layers\\core\\dense.py:87: UserWarning: Do not pass an `input_shape`/`input_dim` argument to a layer. When using Sequential models, prefer using an `Input(shape)` object as the first layer in the model instead.\n",
      "  super().__init__(activity_regularizer=activity_regularizer, **kwargs)\n"
     ]
    },
    {
     "name": "stdout",
     "output_type": "stream",
     "text": [
      "\u001b[1m25/25\u001b[0m \u001b[32m━━━━━━━━━━━━━━━━━━━━\u001b[0m\u001b[37m\u001b[0m \u001b[1m0s\u001b[0m 2ms/step \n"
     ]
    },
    {
     "name": "stderr",
     "output_type": "stream",
     "text": [
      "[I 2024-12-07 17:47:50,672] Trial 34 finished with value: 0.5919116020183313 and parameters: {'num_layers': 3, 'num_neurons': 64, 'dropout_rate': 0.22367426534304982, 'learning_rate': 0.000694776639474305, 'batch_size': 16}. Best is trial 24 with value: 0.5606583916623036.\n",
      "c:\\Users\\carlo\\.conda\\envs\\ds_env\\Lib\\site-packages\\keras\\src\\layers\\core\\dense.py:87: UserWarning: Do not pass an `input_shape`/`input_dim` argument to a layer. When using Sequential models, prefer using an `Input(shape)` object as the first layer in the model instead.\n",
      "  super().__init__(activity_regularizer=activity_regularizer, **kwargs)\n"
     ]
    },
    {
     "name": "stdout",
     "output_type": "stream",
     "text": [
      "\u001b[1m25/25\u001b[0m \u001b[32m━━━━━━━━━━━━━━━━━━━━\u001b[0m\u001b[37m\u001b[0m \u001b[1m0s\u001b[0m 2ms/step \n"
     ]
    },
    {
     "name": "stderr",
     "output_type": "stream",
     "text": [
      "[I 2024-12-07 17:47:52,818] Trial 35 finished with value: 0.6308000337552496 and parameters: {'num_layers': 3, 'num_neurons': 192, 'dropout_rate': 0.1619808902044648, 'learning_rate': 0.0023171446601746087, 'batch_size': 128}. Best is trial 24 with value: 0.5606583916623036.\n",
      "c:\\Users\\carlo\\.conda\\envs\\ds_env\\Lib\\site-packages\\keras\\src\\layers\\core\\dense.py:87: UserWarning: Do not pass an `input_shape`/`input_dim` argument to a layer. When using Sequential models, prefer using an `Input(shape)` object as the first layer in the model instead.\n",
      "  super().__init__(activity_regularizer=activity_regularizer, **kwargs)\n"
     ]
    },
    {
     "name": "stdout",
     "output_type": "stream",
     "text": [
      "\u001b[1m25/25\u001b[0m \u001b[32m━━━━━━━━━━━━━━━━━━━━\u001b[0m\u001b[37m\u001b[0m \u001b[1m0s\u001b[0m 1ms/step \n"
     ]
    },
    {
     "name": "stderr",
     "output_type": "stream",
     "text": [
      "[I 2024-12-07 17:47:57,091] Trial 36 finished with value: 0.5463311406407377 and parameters: {'num_layers': 3, 'num_neurons': 128, 'dropout_rate': 0.20678628108739722, 'learning_rate': 0.0048170654669388285, 'batch_size': 16}. Best is trial 36 with value: 0.5463311406407377.\n",
      "c:\\Users\\carlo\\.conda\\envs\\ds_env\\Lib\\site-packages\\keras\\src\\layers\\core\\dense.py:87: UserWarning: Do not pass an `input_shape`/`input_dim` argument to a layer. When using Sequential models, prefer using an `Input(shape)` object as the first layer in the model instead.\n",
      "  super().__init__(activity_regularizer=activity_regularizer, **kwargs)\n"
     ]
    },
    {
     "name": "stdout",
     "output_type": "stream",
     "text": [
      "\u001b[1m25/25\u001b[0m \u001b[32m━━━━━━━━━━━━━━━━━━━━\u001b[0m\u001b[37m\u001b[0m \u001b[1m0s\u001b[0m 1ms/step \n"
     ]
    },
    {
     "name": "stderr",
     "output_type": "stream",
     "text": [
      "[I 2024-12-07 17:47:59,126] Trial 37 finished with value: 0.6774219170686949 and parameters: {'num_layers': 3, 'num_neurons': 160, 'dropout_rate': 0.2743993977321002, 'learning_rate': 0.00405364461973979, 'batch_size': 128}. Best is trial 36 with value: 0.5463311406407377.\n",
      "c:\\Users\\carlo\\.conda\\envs\\ds_env\\Lib\\site-packages\\keras\\src\\layers\\core\\dense.py:87: UserWarning: Do not pass an `input_shape`/`input_dim` argument to a layer. When using Sequential models, prefer using an `Input(shape)` object as the first layer in the model instead.\n",
      "  super().__init__(activity_regularizer=activity_regularizer, **kwargs)\n"
     ]
    },
    {
     "name": "stdout",
     "output_type": "stream",
     "text": [
      "\u001b[1m25/25\u001b[0m \u001b[32m━━━━━━━━━━━━━━━━━━━━\u001b[0m\u001b[37m\u001b[0m \u001b[1m0s\u001b[0m 1ms/step \n"
     ]
    },
    {
     "name": "stderr",
     "output_type": "stream",
     "text": [
      "[I 2024-12-07 17:48:03,357] Trial 38 finished with value: 0.6784716602893421 and parameters: {'num_layers': 3, 'num_neurons': 128, 'dropout_rate': 0.09289374227606165, 'learning_rate': 0.006687019852736594, 'batch_size': 16}. Best is trial 36 with value: 0.5463311406407377.\n",
      "c:\\Users\\carlo\\.conda\\envs\\ds_env\\Lib\\site-packages\\keras\\src\\layers\\core\\dense.py:87: UserWarning: Do not pass an `input_shape`/`input_dim` argument to a layer. When using Sequential models, prefer using an `Input(shape)` object as the first layer in the model instead.\n",
      "  super().__init__(activity_regularizer=activity_regularizer, **kwargs)\n"
     ]
    },
    {
     "name": "stdout",
     "output_type": "stream",
     "text": [
      "\u001b[1m25/25\u001b[0m \u001b[32m━━━━━━━━━━━━━━━━━━━━\u001b[0m\u001b[37m\u001b[0m \u001b[1m0s\u001b[0m 923us/step\n"
     ]
    },
    {
     "name": "stderr",
     "output_type": "stream",
     "text": [
      "[I 2024-12-07 17:48:05,103] Trial 39 finished with value: 0.7093481128214517 and parameters: {'num_layers': 1, 'num_neurons': 160, 'dropout_rate': 0.20402766792644153, 'learning_rate': 0.004317997900684768, 'batch_size': 64}. Best is trial 36 with value: 0.5463311406407377.\n",
      "c:\\Users\\carlo\\.conda\\envs\\ds_env\\Lib\\site-packages\\keras\\src\\layers\\core\\dense.py:87: UserWarning: Do not pass an `input_shape`/`input_dim` argument to a layer. When using Sequential models, prefer using an `Input(shape)` object as the first layer in the model instead.\n",
      "  super().__init__(activity_regularizer=activity_regularizer, **kwargs)\n"
     ]
    },
    {
     "name": "stdout",
     "output_type": "stream",
     "text": [
      "\u001b[1m25/25\u001b[0m \u001b[32m━━━━━━━━━━━━━━━━━━━━\u001b[0m\u001b[37m\u001b[0m \u001b[1m0s\u001b[0m 1ms/step \n"
     ]
    },
    {
     "name": "stderr",
     "output_type": "stream",
     "text": [
      "[I 2024-12-07 17:48:07,072] Trial 40 finished with value: 0.684673487727225 and parameters: {'num_layers': 3, 'num_neurons': 128, 'dropout_rate': 0.1737437106632282, 'learning_rate': 0.0010846973954758057, 'batch_size': 128}. Best is trial 36 with value: 0.5463311406407377.\n",
      "c:\\Users\\carlo\\.conda\\envs\\ds_env\\Lib\\site-packages\\keras\\src\\layers\\core\\dense.py:87: UserWarning: Do not pass an `input_shape`/`input_dim` argument to a layer. When using Sequential models, prefer using an `Input(shape)` object as the first layer in the model instead.\n",
      "  super().__init__(activity_regularizer=activity_regularizer, **kwargs)\n"
     ]
    },
    {
     "name": "stdout",
     "output_type": "stream",
     "text": [
      "\u001b[1m25/25\u001b[0m \u001b[32m━━━━━━━━━━━━━━━━━━━━\u001b[0m\u001b[37m\u001b[0m \u001b[1m0s\u001b[0m 1ms/step \n"
     ]
    },
    {
     "name": "stderr",
     "output_type": "stream",
     "text": [
      "[I 2024-12-07 17:48:11,191] Trial 41 finished with value: 0.7570747673797609 and parameters: {'num_layers': 3, 'num_neurons': 96, 'dropout_rate': 0.2045862319951244, 'learning_rate': 0.0024560232584328674, 'batch_size': 16}. Best is trial 36 with value: 0.5463311406407377.\n",
      "c:\\Users\\carlo\\.conda\\envs\\ds_env\\Lib\\site-packages\\keras\\src\\layers\\core\\dense.py:87: UserWarning: Do not pass an `input_shape`/`input_dim` argument to a layer. When using Sequential models, prefer using an `Input(shape)` object as the first layer in the model instead.\n",
      "  super().__init__(activity_regularizer=activity_regularizer, **kwargs)\n"
     ]
    },
    {
     "name": "stdout",
     "output_type": "stream",
     "text": [
      "\u001b[1m25/25\u001b[0m \u001b[32m━━━━━━━━━━━━━━━━━━━━\u001b[0m\u001b[37m\u001b[0m \u001b[1m0s\u001b[0m 1ms/step \n"
     ]
    },
    {
     "name": "stderr",
     "output_type": "stream",
     "text": [
      "[I 2024-12-07 17:48:15,444] Trial 42 finished with value: 0.5984776031428197 and parameters: {'num_layers': 3, 'num_neurons': 128, 'dropout_rate': 0.2910508082322752, 'learning_rate': 0.001600402316172067, 'batch_size': 16}. Best is trial 36 with value: 0.5463311406407377.\n",
      "c:\\Users\\carlo\\.conda\\envs\\ds_env\\Lib\\site-packages\\keras\\src\\layers\\core\\dense.py:87: UserWarning: Do not pass an `input_shape`/`input_dim` argument to a layer. When using Sequential models, prefer using an `Input(shape)` object as the first layer in the model instead.\n",
      "  super().__init__(activity_regularizer=activity_regularizer, **kwargs)\n"
     ]
    },
    {
     "name": "stdout",
     "output_type": "stream",
     "text": [
      "\u001b[1m25/25\u001b[0m \u001b[32m━━━━━━━━━━━━━━━━━━━━\u001b[0m\u001b[37m\u001b[0m \u001b[1m0s\u001b[0m 1ms/step \n"
     ]
    },
    {
     "name": "stderr",
     "output_type": "stream",
     "text": [
      "[I 2024-12-07 17:48:19,642] Trial 43 finished with value: 0.5921065503345371 and parameters: {'num_layers': 3, 'num_neurons': 96, 'dropout_rate': 0.21388884013798712, 'learning_rate': 0.006652676018924892, 'batch_size': 16}. Best is trial 36 with value: 0.5463311406407377.\n",
      "c:\\Users\\carlo\\.conda\\envs\\ds_env\\Lib\\site-packages\\keras\\src\\layers\\core\\dense.py:87: UserWarning: Do not pass an `input_shape`/`input_dim` argument to a layer. When using Sequential models, prefer using an `Input(shape)` object as the first layer in the model instead.\n",
      "  super().__init__(activity_regularizer=activity_regularizer, **kwargs)\n"
     ]
    },
    {
     "name": "stdout",
     "output_type": "stream",
     "text": [
      "\u001b[1m25/25\u001b[0m \u001b[32m━━━━━━━━━━━━━━━━━━━━\u001b[0m\u001b[37m\u001b[0m \u001b[1m0s\u001b[0m 1ms/step \n"
     ]
    },
    {
     "name": "stderr",
     "output_type": "stream",
     "text": [
      "[I 2024-12-07 17:48:23,668] Trial 44 finished with value: 0.6279455340805612 and parameters: {'num_layers': 3, 'num_neurons': 64, 'dropout_rate': 0.24721337688963022, 'learning_rate': 0.002799210348447611, 'batch_size': 16}. Best is trial 36 with value: 0.5463311406407377.\n",
      "c:\\Users\\carlo\\.conda\\envs\\ds_env\\Lib\\site-packages\\keras\\src\\layers\\core\\dense.py:87: UserWarning: Do not pass an `input_shape`/`input_dim` argument to a layer. When using Sequential models, prefer using an `Input(shape)` object as the first layer in the model instead.\n",
      "  super().__init__(activity_regularizer=activity_regularizer, **kwargs)\n"
     ]
    },
    {
     "name": "stdout",
     "output_type": "stream",
     "text": [
      "\u001b[1m25/25\u001b[0m \u001b[32m━━━━━━━━━━━━━━━━━━━━\u001b[0m\u001b[37m\u001b[0m \u001b[1m0s\u001b[0m 1ms/step \n"
     ]
    },
    {
     "name": "stderr",
     "output_type": "stream",
     "text": [
      "[I 2024-12-07 17:48:27,805] Trial 45 finished with value: 0.5940944223242601 and parameters: {'num_layers': 3, 'num_neurons': 96, 'dropout_rate': 0.18335495808491617, 'learning_rate': 0.0003414897615565399, 'batch_size': 16}. Best is trial 36 with value: 0.5463311406407377.\n",
      "c:\\Users\\carlo\\.conda\\envs\\ds_env\\Lib\\site-packages\\keras\\src\\layers\\core\\dense.py:87: UserWarning: Do not pass an `input_shape`/`input_dim` argument to a layer. When using Sequential models, prefer using an `Input(shape)` object as the first layer in the model instead.\n",
      "  super().__init__(activity_regularizer=activity_regularizer, **kwargs)\n"
     ]
    },
    {
     "name": "stdout",
     "output_type": "stream",
     "text": [
      "\u001b[1m25/25\u001b[0m \u001b[32m━━━━━━━━━━━━━━━━━━━━\u001b[0m\u001b[37m\u001b[0m \u001b[1m0s\u001b[0m 1ms/step \n"
     ]
    },
    {
     "name": "stderr",
     "output_type": "stream",
     "text": [
      "[I 2024-12-07 17:48:31,999] Trial 46 finished with value: 0.572709656425264 and parameters: {'num_layers': 3, 'num_neurons': 128, 'dropout_rate': 0.11509050697394924, 'learning_rate': 0.009578981762017623, 'batch_size': 16}. Best is trial 36 with value: 0.5463311406407377.\n",
      "c:\\Users\\carlo\\.conda\\envs\\ds_env\\Lib\\site-packages\\keras\\src\\layers\\core\\dense.py:87: UserWarning: Do not pass an `input_shape`/`input_dim` argument to a layer. When using Sequential models, prefer using an `Input(shape)` object as the first layer in the model instead.\n",
      "  super().__init__(activity_regularizer=activity_regularizer, **kwargs)\n"
     ]
    },
    {
     "name": "stdout",
     "output_type": "stream",
     "text": [
      "\u001b[1m25/25\u001b[0m \u001b[32m━━━━━━━━━━━━━━━━━━━━\u001b[0m\u001b[37m\u001b[0m \u001b[1m0s\u001b[0m 1ms/step \n"
     ]
    },
    {
     "name": "stderr",
     "output_type": "stream",
     "text": [
      "[I 2024-12-07 17:48:36,009] Trial 47 finished with value: 0.6648254215596906 and parameters: {'num_layers': 3, 'num_neurons': 64, 'dropout_rate': 0.3479043875409164, 'learning_rate': 0.0043242374309175385, 'batch_size': 16}. Best is trial 36 with value: 0.5463311406407377.\n",
      "c:\\Users\\carlo\\.conda\\envs\\ds_env\\Lib\\site-packages\\keras\\src\\layers\\core\\dense.py:87: UserWarning: Do not pass an `input_shape`/`input_dim` argument to a layer. When using Sequential models, prefer using an `Input(shape)` object as the first layer in the model instead.\n",
      "  super().__init__(activity_regularizer=activity_regularizer, **kwargs)\n"
     ]
    },
    {
     "name": "stdout",
     "output_type": "stream",
     "text": [
      "\u001b[1m25/25\u001b[0m \u001b[32m━━━━━━━━━━━━━━━━━━━━\u001b[0m\u001b[37m\u001b[0m \u001b[1m0s\u001b[0m 1ms/step \n"
     ]
    },
    {
     "name": "stderr",
     "output_type": "stream",
     "text": [
      "[I 2024-12-07 17:48:38,746] Trial 48 finished with value: 0.7094775679495465 and parameters: {'num_layers': 2, 'num_neurons': 192, 'dropout_rate': 0.3117811672871864, 'learning_rate': 0.0008864784258133849, 'batch_size': 32}. Best is trial 36 with value: 0.5463311406407377.\n",
      "c:\\Users\\carlo\\.conda\\envs\\ds_env\\Lib\\site-packages\\keras\\src\\layers\\core\\dense.py:87: UserWarning: Do not pass an `input_shape`/`input_dim` argument to a layer. When using Sequential models, prefer using an `Input(shape)` object as the first layer in the model instead.\n",
      "  super().__init__(activity_regularizer=activity_regularizer, **kwargs)\n"
     ]
    },
    {
     "name": "stdout",
     "output_type": "stream",
     "text": [
      "\u001b[1m25/25\u001b[0m \u001b[32m━━━━━━━━━━━━━━━━━━━━\u001b[0m\u001b[37m\u001b[0m \u001b[1m0s\u001b[0m 1ms/step \n"
     ]
    },
    {
     "name": "stderr",
     "output_type": "stream",
     "text": [
      "[I 2024-12-07 17:48:41,527] Trial 49 finished with value: 0.6702646800859946 and parameters: {'num_layers': 3, 'num_neurons': 128, 'dropout_rate': 0.27253467353501215, 'learning_rate': 0.001673348508667456, 'batch_size': 64}. Best is trial 36 with value: 0.5463311406407377.\n"
     ]
    },
    {
     "name": "stdout",
     "output_type": "stream",
     "text": [
      "Mejores hiperparámetros:\n",
      "{'num_layers': 3, 'num_neurons': 128, 'dropout_rate': 0.20678628108739722, 'learning_rate': 0.0048170654669388285, 'batch_size': 16}\n",
      "Epoch 1/50\n"
     ]
    },
    {
     "name": "stderr",
     "output_type": "stream",
     "text": [
      "c:\\Users\\carlo\\.conda\\envs\\ds_env\\Lib\\site-packages\\keras\\src\\layers\\core\\dense.py:87: UserWarning: Do not pass an `input_shape`/`input_dim` argument to a layer. When using Sequential models, prefer using an `Input(shape)` object as the first layer in the model instead.\n",
      "  super().__init__(activity_regularizer=activity_regularizer, **kwargs)\n"
     ]
    },
    {
     "name": "stdout",
     "output_type": "stream",
     "text": [
      "\u001b[1m194/194\u001b[0m \u001b[32m━━━━━━━━━━━━━━━━━━━━\u001b[0m\u001b[37m\u001b[0m \u001b[1m1s\u001b[0m 1ms/step - loss: 6.5624 - mae: 1.8341 - val_loss: 0.8838 - val_mae: 0.7492\n",
      "Epoch 2/50\n",
      "\u001b[1m194/194\u001b[0m \u001b[32m━━━━━━━━━━━━━━━━━━━━\u001b[0m\u001b[37m\u001b[0m \u001b[1m0s\u001b[0m 939us/step - loss: 1.1974 - mae: 0.8733 - val_loss: 0.8333 - val_mae: 0.6903\n",
      "Epoch 3/50\n",
      "\u001b[1m194/194\u001b[0m \u001b[32m━━━━━━━━━━━━━━━━━━━━\u001b[0m\u001b[37m\u001b[0m \u001b[1m0s\u001b[0m 891us/step - loss: 1.1000 - mae: 0.8155 - val_loss: 0.6737 - val_mae: 0.6416\n",
      "Epoch 4/50\n",
      "\u001b[1m194/194\u001b[0m \u001b[32m━━━━━━━━━━━━━━━━━━━━\u001b[0m\u001b[37m\u001b[0m \u001b[1m0s\u001b[0m 992us/step - loss: 1.0494 - mae: 0.8153 - val_loss: 0.6408 - val_mae: 0.6244\n",
      "Epoch 5/50\n",
      "\u001b[1m194/194\u001b[0m \u001b[32m━━━━━━━━━━━━━━━━━━━━\u001b[0m\u001b[37m\u001b[0m \u001b[1m0s\u001b[0m 844us/step - loss: 0.9454 - mae: 0.7622 - val_loss: 0.6620 - val_mae: 0.6220\n",
      "Epoch 6/50\n",
      "\u001b[1m194/194\u001b[0m \u001b[32m━━━━━━━━━━━━━━━━━━━━\u001b[0m\u001b[37m\u001b[0m \u001b[1m0s\u001b[0m 904us/step - loss: 0.8838 - mae: 0.7312 - val_loss: 0.5953 - val_mae: 0.5889\n",
      "Epoch 7/50\n",
      "\u001b[1m194/194\u001b[0m \u001b[32m━━━━━━━━━━━━━━━━━━━━\u001b[0m\u001b[37m\u001b[0m \u001b[1m0s\u001b[0m 862us/step - loss: 0.8986 - mae: 0.7318 - val_loss: 0.6607 - val_mae: 0.6388\n",
      "Epoch 8/50\n",
      "\u001b[1m194/194\u001b[0m \u001b[32m━━━━━━━━━━━━━━━━━━━━\u001b[0m\u001b[37m\u001b[0m \u001b[1m0s\u001b[0m 952us/step - loss: 0.8218 - mae: 0.6965 - val_loss: 0.5820 - val_mae: 0.5829\n",
      "Epoch 9/50\n",
      "\u001b[1m194/194\u001b[0m \u001b[32m━━━━━━━━━━━━━━━━━━━━\u001b[0m\u001b[37m\u001b[0m \u001b[1m0s\u001b[0m 820us/step - loss: 0.7937 - mae: 0.6873 - val_loss: 0.5807 - val_mae: 0.5874\n",
      "Epoch 10/50\n",
      "\u001b[1m194/194\u001b[0m \u001b[32m━━━━━━━━━━━━━━━━━━━━\u001b[0m\u001b[37m\u001b[0m \u001b[1m0s\u001b[0m 889us/step - loss: 0.8102 - mae: 0.6892 - val_loss: 0.7654 - val_mae: 0.7105\n",
      "Epoch 11/50\n",
      "\u001b[1m194/194\u001b[0m \u001b[32m━━━━━━━━━━━━━━━━━━━━\u001b[0m\u001b[37m\u001b[0m \u001b[1m0s\u001b[0m 852us/step - loss: 0.7627 - mae: 0.6760 - val_loss: 0.6177 - val_mae: 0.6049\n",
      "Epoch 12/50\n",
      "\u001b[1m194/194\u001b[0m \u001b[32m━━━━━━━━━━━━━━━━━━━━\u001b[0m\u001b[37m\u001b[0m \u001b[1m0s\u001b[0m 861us/step - loss: 0.8156 - mae: 0.6911 - val_loss: 0.5806 - val_mae: 0.5820\n",
      "Epoch 13/50\n",
      "\u001b[1m194/194\u001b[0m \u001b[32m━━━━━━━━━━━━━━━━━━━━\u001b[0m\u001b[37m\u001b[0m \u001b[1m0s\u001b[0m 849us/step - loss: 0.7645 - mae: 0.6661 - val_loss: 0.5832 - val_mae: 0.5767\n",
      "Epoch 14/50\n",
      "\u001b[1m194/194\u001b[0m \u001b[32m━━━━━━━━━━━━━━━━━━━━\u001b[0m\u001b[37m\u001b[0m \u001b[1m0s\u001b[0m 838us/step - loss: 0.7254 - mae: 0.6545 - val_loss: 0.5832 - val_mae: 0.5788\n",
      "Epoch 15/50\n",
      "\u001b[1m194/194\u001b[0m \u001b[32m━━━━━━━━━━━━━━━━━━━━\u001b[0m\u001b[37m\u001b[0m \u001b[1m0s\u001b[0m 869us/step - loss: 0.6661 - mae: 0.6259 - val_loss: 0.5551 - val_mae: 0.5657\n",
      "Epoch 16/50\n",
      "\u001b[1m194/194\u001b[0m \u001b[32m━━━━━━━━━━━━━━━━━━━━\u001b[0m\u001b[37m\u001b[0m \u001b[1m0s\u001b[0m 851us/step - loss: 0.7283 - mae: 0.6494 - val_loss: 0.5640 - val_mae: 0.5672\n",
      "Epoch 17/50\n",
      "\u001b[1m194/194\u001b[0m \u001b[32m━━━━━━━━━━━━━━━━━━━━\u001b[0m\u001b[37m\u001b[0m \u001b[1m0s\u001b[0m 863us/step - loss: 0.6805 - mae: 0.6231 - val_loss: 0.6120 - val_mae: 0.5877\n",
      "Epoch 18/50\n",
      "\u001b[1m194/194\u001b[0m \u001b[32m━━━━━━━━━━━━━━━━━━━━\u001b[0m\u001b[37m\u001b[0m \u001b[1m0s\u001b[0m 857us/step - loss: 0.6253 - mae: 0.5966 - val_loss: 0.5694 - val_mae: 0.5704\n",
      "Epoch 19/50\n",
      "\u001b[1m194/194\u001b[0m \u001b[32m━━━━━━━━━━━━━━━━━━━━\u001b[0m\u001b[37m\u001b[0m \u001b[1m0s\u001b[0m 832us/step - loss: 0.6645 - mae: 0.6198 - val_loss: 0.7329 - val_mae: 0.6810\n",
      "Epoch 20/50\n",
      "\u001b[1m194/194\u001b[0m \u001b[32m━━━━━━━━━━━━━━━━━━━━\u001b[0m\u001b[37m\u001b[0m \u001b[1m0s\u001b[0m 836us/step - loss: 0.6509 - mae: 0.6167 - val_loss: 0.5992 - val_mae: 0.5883\n",
      "Epoch 21/50\n",
      "\u001b[1m194/194\u001b[0m \u001b[32m━━━━━━━━━━━━━━━━━━━━\u001b[0m\u001b[37m\u001b[0m \u001b[1m0s\u001b[0m 852us/step - loss: 0.6433 - mae: 0.6166 - val_loss: 0.5654 - val_mae: 0.5640\n",
      "Epoch 22/50\n",
      "\u001b[1m194/194\u001b[0m \u001b[32m━━━━━━━━━━━━━━━━━━━━\u001b[0m\u001b[37m\u001b[0m \u001b[1m0s\u001b[0m 906us/step - loss: 0.6736 - mae: 0.6199 - val_loss: 0.6203 - val_mae: 0.5897\n",
      "Epoch 23/50\n",
      "\u001b[1m194/194\u001b[0m \u001b[32m━━━━━━━━━━━━━━━━━━━━\u001b[0m\u001b[37m\u001b[0m \u001b[1m0s\u001b[0m 847us/step - loss: 0.6555 - mae: 0.6032 - val_loss: 0.6004 - val_mae: 0.5767\n",
      "Epoch 24/50\n",
      "\u001b[1m194/194\u001b[0m \u001b[32m━━━━━━━━━━━━━━━━━━━━\u001b[0m\u001b[37m\u001b[0m \u001b[1m0s\u001b[0m 872us/step - loss: 0.5874 - mae: 0.5767 - val_loss: 0.6064 - val_mae: 0.5896\n",
      "Epoch 25/50\n",
      "\u001b[1m194/194\u001b[0m \u001b[32m━━━━━━━━━━━━━━━━━━━━\u001b[0m\u001b[37m\u001b[0m \u001b[1m0s\u001b[0m 847us/step - loss: 0.6046 - mae: 0.5931 - val_loss: 0.9843 - val_mae: 0.8271\n",
      "Epoch 26/50\n",
      "\u001b[1m194/194\u001b[0m \u001b[32m━━━━━━━━━━━━━━━━━━━━\u001b[0m\u001b[37m\u001b[0m \u001b[1m0s\u001b[0m 848us/step - loss: 0.6146 - mae: 0.5980 - val_loss: 0.6019 - val_mae: 0.5725\n",
      "Epoch 27/50\n",
      "\u001b[1m194/194\u001b[0m \u001b[32m━━━━━━━━━━━━━━━━━━━━\u001b[0m\u001b[37m\u001b[0m \u001b[1m0s\u001b[0m 849us/step - loss: 0.6262 - mae: 0.5898 - val_loss: 0.5668 - val_mae: 0.5541\n",
      "Epoch 28/50\n",
      "\u001b[1m194/194\u001b[0m \u001b[32m━━━━━━━━━━━━━━━━━━━━\u001b[0m\u001b[37m\u001b[0m \u001b[1m0s\u001b[0m 833us/step - loss: 0.6431 - mae: 0.6006 - val_loss: 0.5920 - val_mae: 0.5766\n",
      "Epoch 29/50\n",
      "\u001b[1m194/194\u001b[0m \u001b[32m━━━━━━━━━━━━━━━━━━━━\u001b[0m\u001b[37m\u001b[0m \u001b[1m0s\u001b[0m 902us/step - loss: 0.6077 - mae: 0.5817 - val_loss: 0.6554 - val_mae: 0.5930\n",
      "Epoch 30/50\n",
      "\u001b[1m194/194\u001b[0m \u001b[32m━━━━━━━━━━━━━━━━━━━━\u001b[0m\u001b[37m\u001b[0m \u001b[1m0s\u001b[0m 893us/step - loss: 0.5560 - mae: 0.5547 - val_loss: 0.5907 - val_mae: 0.5621\n",
      "Epoch 31/50\n",
      "\u001b[1m194/194\u001b[0m \u001b[32m━━━━━━━━━━━━━━━━━━━━\u001b[0m\u001b[37m\u001b[0m \u001b[1m0s\u001b[0m 955us/step - loss: 0.5435 - mae: 0.5533 - val_loss: 0.6053 - val_mae: 0.5734\n",
      "Epoch 32/50\n",
      "\u001b[1m194/194\u001b[0m \u001b[32m━━━━━━━━━━━━━━━━━━━━\u001b[0m\u001b[37m\u001b[0m \u001b[1m0s\u001b[0m 911us/step - loss: 0.5350 - mae: 0.5425 - val_loss: 0.6150 - val_mae: 0.5754\n",
      "Epoch 33/50\n",
      "\u001b[1m194/194\u001b[0m \u001b[32m━━━━━━━━━━━━━━━━━━━━\u001b[0m\u001b[37m\u001b[0m \u001b[1m0s\u001b[0m 921us/step - loss: 0.5736 - mae: 0.5678 - val_loss: 0.6097 - val_mae: 0.5817\n",
      "Epoch 34/50\n",
      "\u001b[1m194/194\u001b[0m \u001b[32m━━━━━━━━━━━━━━━━━━━━\u001b[0m\u001b[37m\u001b[0m \u001b[1m0s\u001b[0m 896us/step - loss: 0.6146 - mae: 0.5723 - val_loss: 0.6077 - val_mae: 0.5799\n",
      "Epoch 35/50\n",
      "\u001b[1m194/194\u001b[0m \u001b[32m━━━━━━━━━━━━━━━━━━━━\u001b[0m\u001b[37m\u001b[0m \u001b[1m0s\u001b[0m 947us/step - loss: 0.5167 - mae: 0.5421 - val_loss: 0.6024 - val_mae: 0.5778\n",
      "Epoch 36/50\n",
      "\u001b[1m194/194\u001b[0m \u001b[32m━━━━━━━━━━━━━━━━━━━━\u001b[0m\u001b[37m\u001b[0m \u001b[1m0s\u001b[0m 898us/step - loss: 0.5231 - mae: 0.5410 - val_loss: 0.6234 - val_mae: 0.5961\n",
      "Epoch 37/50\n",
      "\u001b[1m194/194\u001b[0m \u001b[32m━━━━━━━━━━━━━━━━━━━━\u001b[0m\u001b[37m\u001b[0m \u001b[1m0s\u001b[0m 962us/step - loss: 0.5027 - mae: 0.5298 - val_loss: 0.5995 - val_mae: 0.5788\n",
      "Epoch 38/50\n",
      "\u001b[1m194/194\u001b[0m \u001b[32m━━━━━━━━━━━━━━━━━━━━\u001b[0m\u001b[37m\u001b[0m \u001b[1m0s\u001b[0m 968us/step - loss: 0.5240 - mae: 0.5499 - val_loss: 0.6286 - val_mae: 0.5895\n",
      "Epoch 39/50\n",
      "\u001b[1m194/194\u001b[0m \u001b[32m━━━━━━━━━━━━━━━━━━━━\u001b[0m\u001b[37m\u001b[0m \u001b[1m0s\u001b[0m 953us/step - loss: 0.5233 - mae: 0.5396 - val_loss: 0.5983 - val_mae: 0.5646\n",
      "Epoch 40/50\n",
      "\u001b[1m194/194\u001b[0m \u001b[32m━━━━━━━━━━━━━━━━━━━━\u001b[0m\u001b[37m\u001b[0m \u001b[1m0s\u001b[0m 978us/step - loss: 0.5324 - mae: 0.5346 - val_loss: 0.6237 - val_mae: 0.5794\n",
      "Epoch 41/50\n",
      "\u001b[1m194/194\u001b[0m \u001b[32m━━━━━━━━━━━━━━━━━━━━\u001b[0m\u001b[37m\u001b[0m \u001b[1m0s\u001b[0m 885us/step - loss: 0.4916 - mae: 0.5304 - val_loss: 0.5934 - val_mae: 0.5674\n",
      "Epoch 42/50\n",
      "\u001b[1m194/194\u001b[0m \u001b[32m━━━━━━━━━━━━━━━━━━━━\u001b[0m\u001b[37m\u001b[0m \u001b[1m0s\u001b[0m 840us/step - loss: 0.5012 - mae: 0.5203 - val_loss: 0.6075 - val_mae: 0.5739\n",
      "Epoch 43/50\n",
      "\u001b[1m194/194\u001b[0m \u001b[32m━━━━━━━━━━━━━━━━━━━━\u001b[0m\u001b[37m\u001b[0m \u001b[1m0s\u001b[0m 838us/step - loss: 0.5040 - mae: 0.5260 - val_loss: 0.6070 - val_mae: 0.5774\n",
      "Epoch 44/50\n",
      "\u001b[1m194/194\u001b[0m \u001b[32m━━━━━━━━━━━━━━━━━━━━\u001b[0m\u001b[37m\u001b[0m \u001b[1m0s\u001b[0m 834us/step - loss: 0.4933 - mae: 0.5164 - val_loss: 0.6076 - val_mae: 0.5675\n",
      "Epoch 45/50\n",
      "\u001b[1m194/194\u001b[0m \u001b[32m━━━━━━━━━━━━━━━━━━━━\u001b[0m\u001b[37m\u001b[0m \u001b[1m0s\u001b[0m 820us/step - loss: 0.4639 - mae: 0.5114 - val_loss: 0.6371 - val_mae: 0.6046\n",
      "Epoch 46/50\n",
      "\u001b[1m194/194\u001b[0m \u001b[32m━━━━━━━━━━━━━━━━━━━━\u001b[0m\u001b[37m\u001b[0m \u001b[1m0s\u001b[0m 863us/step - loss: 0.4756 - mae: 0.5090 - val_loss: 0.6489 - val_mae: 0.5901\n",
      "Epoch 47/50\n",
      "\u001b[1m194/194\u001b[0m \u001b[32m━━━━━━━━━━━━━━━━━━━━\u001b[0m\u001b[37m\u001b[0m \u001b[1m0s\u001b[0m 875us/step - loss: 0.4842 - mae: 0.5125 - val_loss: 0.6106 - val_mae: 0.5819\n",
      "Epoch 48/50\n",
      "\u001b[1m194/194\u001b[0m \u001b[32m━━━━━━━━━━━━━━━━━━━━\u001b[0m\u001b[37m\u001b[0m \u001b[1m0s\u001b[0m 950us/step - loss: 0.4557 - mae: 0.4984 - val_loss: 0.6012 - val_mae: 0.5628\n",
      "Epoch 49/50\n",
      "\u001b[1m194/194\u001b[0m \u001b[32m━━━━━━━━━━━━━━━━━━━━\u001b[0m\u001b[37m\u001b[0m \u001b[1m0s\u001b[0m 806us/step - loss: 0.4426 - mae: 0.4827 - val_loss: 0.6123 - val_mae: 0.5709\n",
      "Epoch 50/50\n",
      "\u001b[1m194/194\u001b[0m \u001b[32m━━━━━━━━━━━━━━━━━━━━\u001b[0m\u001b[37m\u001b[0m \u001b[1m0s\u001b[0m 843us/step - loss: 0.4784 - mae: 0.5030 - val_loss: 0.6009 - val_mae: 0.5834\n",
      "\u001b[1m25/25\u001b[0m \u001b[32m━━━━━━━━━━━━━━━━━━━━\u001b[0m\u001b[37m\u001b[0m \u001b[1m0s\u001b[0m 501us/step - loss: 0.5793 - mae: 0.5788\n",
      "Pérdida final (MSE): 0.6008990406990051\n",
      "Error absoluto medio (MAE): 0.5833616256713867\n"
     ]
    }
   ],
   "source": [
    "import optuna\n",
    "from keras.models import Sequential\n",
    "from keras.layers import Dense, Dropout\n",
    "from keras.optimizers import Adam\n",
    "from sklearn.model_selection import train_test_split\n",
    "from sklearn.preprocessing import MinMaxScaler\n",
    "from sklearn.metrics import mean_squared_error\n",
    "import numpy as np\n",
    "\n",
    "# Asegúrate de que tus datos están listos: `X` y `Y`\n",
    "# Normalizamos los datos para asegurar un mejor entrenamiento\n",
    "scaler = MinMaxScaler()\n",
    "X_scaled = scaler.fit_transform(X)\n",
    "\n",
    "# Dividimos en conjunto de entrenamiento y prueba\n",
    "X_train, X_val, Y_train, Y_val = train_test_split(X_scaled, Y, test_size=0.2, random_state=42)\n",
    "\n",
    "def objective(trial):\n",
    "    \"\"\"Función objetivo para Optuna.\"\"\"\n",
    "    # Hiperparámetros que queremos optimizar\n",
    "    num_layers = trial.suggest_int(\"num_layers\", 1, 3)  # Número de capas ocultas\n",
    "    num_neurons = trial.suggest_int(\"num_neurons\", 32, 256, step=32)  # Neuronas por capa\n",
    "    dropout_rate = trial.suggest_float(\"dropout_rate\", 0.0, 0.5)  # Tasa de Dropout\n",
    "    learning_rate = trial.suggest_float(\"learning_rate\", 1e-5, 1e-2, log=True)  # Tasa de aprendizaje\n",
    "    batch_size = trial.suggest_categorical(\"batch_size\", [16, 32, 64, 128])  # Tamaño del batch\n",
    "\n",
    "    # Construcción del modelo\n",
    "    model = Sequential()\n",
    "    model.add(Dense(num_neurons, activation='relu', input_dim=X_train.shape[1]))\n",
    "    for _ in range(num_layers - 1):\n",
    "        model.add(Dense(num_neurons, activation='relu'))\n",
    "        model.add(Dropout(dropout_rate))\n",
    "    model.add(Dense(1))  # Capa de salida\n",
    "\n",
    "    # Compilación del modelo\n",
    "    optimizer = Adam(learning_rate=learning_rate)\n",
    "    model.compile(optimizer=optimizer, loss='mean_squared_error', metrics=['mae'])\n",
    "\n",
    "    # Entrenamiento\n",
    "    model.fit(X_train, Y_train, epochs=20, batch_size=batch_size, verbose=0, validation_data=(X_val, Y_val))\n",
    "\n",
    "    # Evaluación\n",
    "    val_predictions = model.predict(X_val)\n",
    "    val_mse = mean_squared_error(Y_val, val_predictions)\n",
    "\n",
    "    return val_mse\n",
    "\n",
    "# Crear un estudio para optimizar\n",
    "study = optuna.create_study(direction=\"minimize\")\n",
    "study.optimize(objective, n_trials=50)  # Ejecutar 50 pruebas\n",
    "\n",
    "# Mostrar los mejores hiperparámetros encontrados\n",
    "print(\"Mejores hiperparámetros:\")\n",
    "print(study.best_params)\n",
    "\n",
    "# Entrenar un modelo final con los mejores hiperparámetros\n",
    "best_params = study.best_params\n",
    "final_model = Sequential()\n",
    "final_model.add(Dense(best_params['num_neurons'], activation='relu', input_dim=X_train.shape[1]))\n",
    "for _ in range(best_params['num_layers'] - 1):\n",
    "    final_model.add(Dense(best_params['num_neurons'], activation='relu'))\n",
    "    final_model.add(Dropout(best_params['dropout_rate']))\n",
    "final_model.add(Dense(1))\n",
    "\n",
    "optimizer = Adam(learning_rate=best_params['learning_rate'])\n",
    "final_model.compile(optimizer=optimizer, loss='mean_squared_error', metrics=['mae'])\n",
    "\n",
    "final_model.fit(X_train, Y_train, epochs=50, batch_size=best_params['batch_size'], validation_data=(X_val, Y_val))\n",
    "\n",
    "# Evaluar el modelo final\n",
    "loss, mae = final_model.evaluate(X_val, Y_val)\n",
    "print(f\"Pérdida final (MSE): {loss}\")\n",
    "print(f\"Error absoluto medio (MAE): {mae}\")\n"
   ]
  },
  {
   "cell_type": "code",
   "execution_count": 90,
   "id": "86a45e9c",
   "metadata": {},
   "outputs": [
    {
     "name": "stdout",
     "output_type": "stream",
     "text": [
      "\u001b[1m25/25\u001b[0m \u001b[32m━━━━━━━━━━━━━━━━━━━━\u001b[0m\u001b[37m\u001b[0m \u001b[1m0s\u001b[0m 3ms/step\n"
     ]
    },
    {
     "data": {
      "image/png": "[encoded data removed]",
      "text/plain": [
       "<Figure size 800x800 with 1 Axes>"
      ]
     },
     "metadata": {},
     "output_type": "display_data"
    }
   ],
   "source": [
    "import matplotlib.pyplot as plt\n",
    "\n",
    "# Predicciones finales\n",
    "predictions = final_model.predict(X_val)\n",
    "\n",
    "# Graficar\n",
    "plt.figure(figsize=(8, 8))\n",
    "plt.scatter(Y_val, predictions, alpha=0.6)\n",
    "plt.plot([Y_val.min(), Y_val.max()], [Y_val.min(), Y_val.max()], '--r')\n",
    "plt.xlabel('Valores Reales')\n",
    "plt.ylabel('Predicciones')\n",
    "plt.title('Comparación de Predicciones vs Valores Reales')\n",
    "plt.show()\n"
   ]
  }
 ],
 "metadata": {
  "colab": {
   "provenance": []
  },
  "kaggle": {
   "accelerator": "none",
   "dataSources": [
    {
     "datasetId": 3405,
     "sourceId": 6663,
     "sourceType": "datasetVersion"
    }
   ],
   "dockerImageVersionId": 30786,
   "isGpuEnabled": false,
   "isInternetEnabled": true,
   "language": "python",
   "sourceType": "notebook"
  },
  "kernelspec": {
   "display_name": "ds_env",
   "language": "python",
   "name": "python3"
  },
  "language_info": {
   "codemirror_mode": {
    "name": "ipython",
    "version": 3
   },
   "file_extension": ".py",
   "mimetype": "text/x-python",
   "name": "python",
   "nbconvert_exporter": "python",
   "pygments_lexer": "ipython3",
   "version": "3.12.7"
  },
  "papermill": {
   "default_parameters": {},
   "duration": 517.225476,
   "end_time": "2024-11-13T15:34:45.222465",
   "environment_variables": {},
   "exception": null,
   "input_path": "__notebook__.ipynb",
   "output_path": "__notebook__.ipynb",
   "parameters": {},
   "start_time": "2024-11-13T15:26:07.996989",
   "version": "2.6.0"
  }
 },
 "nbformat": 4,
 "nbformat_minor": 5
}
